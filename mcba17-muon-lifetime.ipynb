{
 "cells": [
  {
   "cell_type": "markdown",
   "metadata": {},
   "source": [
    "# Muon lifetime\n",
    "\n",
    "This experiment in the UNSW Higher Year Lab measures the decay time of muons. The muons are produced in the upper atmosphere by energetic nuclei of cosmic origin colliding with atmospheric nuclei. Some muons will reach the ground and pass though a plastic scintillator in the lab. When they enter, they cause a light pulse, and if they decay in the scintillator, they cause another light pulse. The time interval between these pulses is recorded, and measures the lifetime of one particular muon. By recording many thousands of such pulses we see an exponential decay in the number of counts per time interval as a function of time. We can use this to determine the muon half-life. \n",
    "\n",
    "An interesting question: if we see a muon decaying in the scintillator, the muon must have been in existence before it entered the scintillator, so its actual age when it decayed is longer that the time between the two light pulses. How do we allow for that? Understanding this is fundamental!\n",
    "\n",
    "It turns out that there are lots of subtleties in analysing the results from this experiment. This Jupyter Notebook explores some of them."
   ]
  },
  {
   "cell_type": "markdown",
   "metadata": {},
   "source": [
    "## Using histograms to show the data\n",
    "\n",
    "The data from the experiment consists of decay time measurements of individual muons.\n",
    "The obvious thing to do is to bin the data by time and plot a histogram of counts in\n",
    "each bin versus time. We would expect\n",
    "to see an exponential decay function, possibly on top of a background count rate.\n",
    "\n",
    "The first subtlety we have to worry about is the choice of bin width to use for the histogram.\n",
    "\n",
    "We have to be careful with the choice of bin width\n",
    "since examining the data shows that the time is\n",
    "quantized to 20 nanoseconds. To take an extreme example,\n",
    "if you chose a bin width of 25 nanoseconds, then you\n",
    "would have the following situation:\n",
    "\n",
    "  Bin edges  | Data values in bin\n",
    "  -----------|-------------------\n",
    "   0 -  25   | 0, 20\n",
    "  25 -  50   |   40\n",
    "  50 -  75   |   60\n",
    "  75 - 100   |   80\n",
    " 100 - 125   | 100, 120\n",
    "\n",
    " i.e., every fifth bin would have twice the apparent count rate of the neighbouring bins,\n",
    " leading to a picket-fence appearance. To avoid this, we choose a bin width that is an\n",
    " integer multiple of 20 nanoseconds.\n",
    " \n",
    " Another subtlety is that we don't want the data points to fall exactly on a bin edge,\n",
    " since floating point precision can bias which bin the point falls into. To eliminate this\n",
    " problem we simply add 10 nanoseconds (half the quantisation) to each data point."
   ]
  },
  {
   "cell_type": "code",
   "execution_count": 1,
   "metadata": {
    "collapsed": false,
    "jupyter": {
     "outputs_hidden": false
    }
   },
   "outputs": [
    {
     "name": "stdout",
     "output_type": "stream",
     "text": [
      "  33 bins, with width dt = 0.600 microseconds\n"
     ]
    },
    {
     "data": {
      "image/png": "[encoded data removed]",
      "text/plain": [
       "<Figure size 640x480 with 1 Axes>"
      ]
     },
     "metadata": {},
     "output_type": "display_data"
    }
   ],
   "source": [
    "import numpy as np\n",
    "import matplotlib.pyplot as plt\n",
    "import math\n",
    "%matplotlib inline\n",
    "\n",
    "# Parameters that we might want to change.\n",
    "\n",
    "timeQuantisation = 0.020                    # microseconds, a property of the experiment\n",
    "maxTime          = timeQuantisation * 1000  # microseconds, for plotting and fitting the data\n",
    "dt               = 30 * timeQuantisation    # the bin width in microseconds, should be an\n",
    "                                            #   integer multiple of timeQuantisation\n",
    "\n",
    "# Begin by read the data, taken by a students in 2019. The file\n",
    "# has two columns: the first is the decay time in nanoseconds, the\n",
    "# second column is the time since the UNIX epoch in seconds. We only\n",
    "# use the first column.\n",
    "#\n",
    "# Here are the first 6 rows of a typical data file:\n",
    "#\n",
    "# 480 1560385853\n",
    "# 960 1560385868\n",
    "# 5800 1560385870\n",
    "# 2240 1560385876\n",
    "# 1460 1560385905\n",
    "# 3440 1560385911\n",
    "\n",
    "# The following line reads the data from the given URL, and puts it in\n",
    "# a 2D numpy array, where the first index is the row, the second is the column.\n",
    "\n",
    "data = np.genfromtxt('https://mcba1.phys.unsw.edu.au/~mcba/muon.dat')\n",
    "\n",
    "# Convert the first column from nanoseconds to microseconds, first adding\n",
    "# 10 nanoseconds to avoid the floating-point precision issue mentioned\n",
    "# above.\n",
    "\n",
    "data[:,0] = data[:,0] / 1000.0 + timeQuantisation / 2\n",
    "\n",
    "# We use floating-point division and round to the nearest integer, to\n",
    "# avoid tricky precision problems that might result in one less bin than\n",
    "# we expect.\n",
    "\n",
    "numberOfBins = round(maxTime / dt)   \n",
    "\n",
    "# Finally, we are ready to create the histogram!\n",
    "\n",
    "counts, bins = np.histogram(data[:,0], numberOfBins, (0.0, maxTime))\n",
    "\n",
    "# Print a nicely formatted summary of the key parameters.\n",
    "\n",
    "print(\"{:4d} bins, with width dt = {:.3f} microseconds\".format(numberOfBins, dt))\n",
    "\n",
    "# Plot the histogram.\n",
    "\n",
    "plt.hist(bins[:-1], bins, weights = counts)\n",
    "plt.xlabel('Time [microseconds]')\n",
    "plt.ylabel('Counts')\n",
    "plt.show()"
   ]
  },
  {
   "cell_type": "markdown",
   "metadata": {},
   "source": [
    "With a reasonable choice for dt, e.g., dt = 30 * timeQuantisation, you should see a nice exponential decay. But are some properties of the data being obscured?\n",
    "\n",
    "Before going any further, try changing the value of dt to see what effect it has. E.g., try 2 * timeQuantisation and notice what is happening close to zero time; if you have a dataset obtained over a few days, you should be able to see the effect of the 10 nanosecond data offset - removing it will produce anomalous spikes in the histogram."
   ]
  },
  {
   "cell_type": "markdown",
   "metadata": {},
   "source": [
    "## Fitting an exponential function\n",
    "\n",
    "Let's try fitting an appropriate function to the data, and see if we can determine the muon half-life."
   ]
  },
  {
   "cell_type": "code",
   "execution_count": 2,
   "metadata": {},
   "outputs": [
    {
     "name": "stdout",
     "output_type": "stream",
     "text": [
      "A simple exponential fit, with no weighting\n",
      "    33 bins; tau = 2.419+/-0.094 usec\n"
     ]
    }
   ],
   "source": [
    "# Import the optimization code from scipy.\n",
    "\n",
    "from scipy import optimize\n",
    "\n",
    "# The first issue is \"what function to fit?\"  We know we expect an\n",
    "# exponential decay, BUT we are not sampling an exponential at a series of\n",
    "# time POINTS, we are BINNING the data over an interval (i.e., \n",
    "# integrating from t_n to t_n+1).\n",
    "\n",
    "# The function below integrates a + b * exp(-t / c) over the bin.\n",
    "# This is the correct way to do it. \"a\" is background noise, \"b\" is\n",
    "# related to the muon flux, and \"c\" is the time constant.\n",
    "\n",
    "def func(t, a, b, c):\n",
    "    return a - (b * c / dt) * (np.exp(-(t + dt) / c) - np.exp(-t / c))\n",
    "\n",
    "# However, it turns out that for the exponential function, you CAN use the\n",
    "# value at the modpoint of the bin, at least for determining the decay time.\n",
    "\n",
    "# So this alternative function just uses the value of a + b * exp(-c*t)\n",
    "# at the mid-point of the bin. This will give identical results to\n",
    "# the first function for a and c, but b will differ.\n",
    "\n",
    "def funcAlt(t, a, b, c):\n",
    "    return a + b * np.exp(- (t + dt / 2) / c)\n",
    "\n",
    "# Note that for fitting functions that aren't exponentials, you will likely\n",
    "# have to integrate over the bin width.\n",
    "\n",
    "# Fitting the function to the data is now as simple as one line, where\n",
    "# [0, 3000 * dt, 2] is an initial guess of the parameters. Note that the\n",
    "# array \"bins\" has one more element than \"counts\" (since \"bins\" lists\n",
    "# the edges of each bin), so we need to chop off the last element.\n",
    "\n",
    "pars, pars_covariance = optimize.curve_fit(func, bins[:-1], counts, [0, 3000 * dt, 2])\n",
    "\n",
    "# Calculate the standard deviations of the parameters.\n",
    "\n",
    "stDev = np.sqrt(np.diag(pars_covariance))\n",
    "\n",
    "# And print the results.\n",
    "\n",
    "print(\"A simple exponential fit, with no weighting\")\n",
    "print(\"   {:3d} bins; tau = {:.3f}+/-{:.3f} usec\".format(numberOfBins, pars[2], stDev[2]))"
   ]
  },
  {
   "cell_type": "markdown",
   "metadata": {},
   "source": [
    "The expected answer from the literature is about 2.197 usec (note carefully: this is _in vacuo_), so we are in the right ballpark. While not outrageously outside our error estimate, the difference warrants further investigation.\n",
    "\n",
    "Returning to our earlier investigations of the histogram, you should have noticed a drop-off in counts at low times. This isn't due to \"bad data\" or \"experimental error\". It is due to \"deadtime\" in the photomultiplier tube (PMT) that measures the light pulses. \"deadtime\" is the time it takes after a pulse before the PMT can register another pulse.\n",
    "\n",
    "The simplest way of correcting for deadtime is to remove the affected bins from the exponential fit."
   ]
  },
  {
   "cell_type": "code",
   "execution_count": 3,
   "metadata": {},
   "outputs": [
    {
     "name": "stdout",
     "output_type": "stream",
     "text": [
      "With a deadtime correction\n",
      "    33 bins; starting bin   1; tau = 2.067+/-0.033 usec\n"
     ]
    }
   ],
   "source": [
    "# Now we are going to compensate for instrumental deadtime. This \n",
    "# causes the number of counts to be less than expected for small time intervals.\n",
    "# The deadtime appears to be about 0.13 microseconds from an inspection\n",
    "# of the data. Let's use a larger value to be on the safe side.\n",
    "\n",
    "deadtime = 0.4 # microseconds\n",
    "\n",
    "# Find the first bin that is later than the estimated deadtime.\n",
    "\n",
    "startingBin = 0\n",
    "for t in bins:\n",
    "    if t >= deadtime:\n",
    "        break\n",
    "    startingBin += 1\n",
    "\n",
    "# And redo the curve_fit, ignoring the data points in the deadtime region.\n",
    "\n",
    "pars, pars_covariance = optimize.curve_fit(funcAlt, bins[startingBin:-1], counts[startingBin:], [0, 3000 * dt, 2])\n",
    "\n",
    "print(\"With a deadtime correction\")\n",
    "stDev = np.sqrt(np.diag(pars_covariance))\n",
    "print(\"   {:3d} bins; starting bin {:3d}; tau = {:.3f}+/-{:.3f} usec\".format(numberOfBins, startingBin, pars[2], stDev[2]))"
   ]
  },
  {
   "cell_type": "markdown",
   "metadata": {},
   "source": [
    "This has had a dramatic effect! The error estimate is also much lower, implying that the fit to the data is better. Our value is closer to the expected one, although we are still outside our error budget. What can we do to improve our analysis?"
   ]
  },
  {
   "cell_type": "code",
   "execution_count": 4,
   "metadata": {},
   "outputs": [
    {
     "name": "stdout",
     "output_type": "stream",
     "text": [
      "Using a weighted fit, with sigma = sqrt(counts)\n",
      "    33 bins; starting bin   1; tau = 2.099+/-0.040 usec\n"
     ]
    }
   ],
   "source": [
    "# So far we haven't let the fitting process take into account\n",
    "# the error bars on the datapoints. \n",
    "# The error bars in time are negligible, but the errors in the counts\n",
    "# are important. We know this is a poisson process, so the error in the\n",
    "# count rate will be equal to the square root of the number of counts.\n",
    "\n",
    "print(\"Using a weighted fit, with sigma = sqrt(counts)\")\n",
    "\n",
    "sigma = np.sqrt(counts[startingBin:])\n",
    "pars, pars_covariance = optimize.curve_fit(func, \n",
    "   bins[startingBin:-1], counts[startingBin:], [0, 3000 * dt, 2],\n",
    "   sigma, absolute_sigma = True)\n",
    "stDev = np.sqrt(np.diag(pars_covariance))\n",
    "print(\"   {:3d} bins; starting bin {:3d}; tau = {:.3f}+/-{:.3f} usec\".format(numberOfBins, startingBin, pars[2], stDev[2]))"
   ]
  },
  {
   "cell_type": "code",
   "execution_count": 5,
   "metadata": {},
   "outputs": [
    {
     "name": "stdout",
     "output_type": "stream",
     "text": [
      "Using a weighted fit, with allowance for low counts\n",
      "    33 bins; starting bin   1; tau = 2.099+/-0.040 usec\n"
     ]
    }
   ],
   "source": [
    "# But there is a problem here: when the number of counts is zero,\n",
    "# the formal error is also zero, which means that curve_fit will try\n",
    "# very hard to make the curve pass through zero, which will bias the\n",
    "# fit low at that point.\n",
    "\n",
    "# This also affects to some extent bins with counts such as 1 or 2.\n",
    "\n",
    "# So let's artificially increase the sigma for counts less than\n",
    "# 4 per bin, so that they don't pull down the fitted curve excessively.\n",
    "# Note the the term \"(counts[startingBin:] > 4)\" will be 0 or 1\n",
    "# depending on the result of the logical operation.\n",
    "\n",
    "print(\"Using a weighted fit, with allowance for low counts\")\n",
    "sigma = 2. + (counts[startingBin:] > 4) * (-2. + np.sqrt(counts[startingBin:]))\n",
    "\n",
    "pars, pars_covariance = optimize.curve_fit(func, \n",
    "   bins[startingBin:-1], counts[startingBin:], [0, 3000 * dt, 2],\n",
    "   sigma, absolute_sigma = True)\n",
    "\n",
    "stDev = np.sqrt(np.diag(pars_covariance))\n",
    "print(\"   {:3d} bins; starting bin {:3d}; tau = {:.3f}+/-{:.3f} usec\".format(numberOfBins, startingBin, pars[2], stDev[2]))"
   ]
  },
  {
   "cell_type": "code",
   "execution_count": 6,
   "metadata": {},
   "outputs": [
    {
     "name": "stdout",
     "output_type": "stream",
     "text": [
      "Using a weighted fit, based on the sqrt of the counts from the previous fit\n",
      "    33 bins; starting bin   1; tau = 2.104+/-0.039 usec\n"
     ]
    }
   ],
   "source": [
    "# Now that we have a reasonable fit, we have a better estimate of the\n",
    "# expected count rate in each bin, so we can use the square root\n",
    "# of that for our error estimate rather than the actual count rate.\n",
    "\n",
    "print(\"Using a weighted fit, based on the sqrt of the counts from the previous fit\")\n",
    "sigma = np.sqrt(func(bins[startingBin:-1], pars[0], pars[1], pars[2]))\n",
    "\n",
    "pars, pars_covariance = optimize.curve_fit(func, \n",
    "   bins[startingBin:-1], counts[startingBin:], [0, 3000 * dt, 2],\n",
    "   sigma, absolute_sigma = True) \n",
    "\n",
    "stDev = np.sqrt(np.diag(pars_covariance))\n",
    "print(\"   {:3d} bins; starting bin {:3d}; tau = {:.3f}+/-{:.3f} usec\".format(numberOfBins, startingBin, pars[2], stDev[2]))"
   ]
  },
  {
   "cell_type": "code",
   "execution_count": 7,
   "metadata": {},
   "outputs": [
    {
     "name": "stdout",
     "output_type": "stream",
     "text": [
      "Repeating the above to make sure it has converged\n",
      "    33 bins; starting bin   1; tau = 2.104+/-0.039 usec\n"
     ]
    }
   ],
   "source": [
    "# And just to be on the safe side, we repeat the last iteration based\n",
    "# on the newly fitted parameters.\n",
    "\n",
    "print(\"Repeating the above to make sure it has converged\")\n",
    "sigma = np.sqrt(func(bins[startingBin:-1], pars[0], pars[1], pars[2]))\n",
    "\n",
    "pars, pars_covariance = optimize.curve_fit(func, \n",
    "   bins[startingBin:-1], counts[startingBin:], [0, 3000 * dt, 2],\n",
    "   sigma, absolute_sigma = True) \n",
    "\n",
    "stDev = np.sqrt(np.diag(pars_covariance))\n",
    "print(\"   {:3d} bins; starting bin {:3d}; tau = {:.3f}+/-{:.3f} usec\".format(numberOfBins, startingBin, pars[2], stDev[2]))"
   ]
  },
  {
   "cell_type": "markdown",
   "metadata": {},
   "source": [
    "Are we done now? Not yet. As a final check, we could generate some fake\n",
    "data by using the fit we have just found, and add poisson noise. Do we recover the \n",
    "expected fit parameters? It turns out that we don't (STOP PRESS: actually, upon\n",
    "trying this again in March 2025, this problem seems to have gone away - not sure why)! And the discrepancy\n",
    "remains if we average many iterations of added noise.\n",
    "\n",
    "Where does this discrepancy come from? \n",
    "\n",
    "I don't know! Maybe curve_fit is assuming a gaussian distribution of\n",
    "for the errors, and the poisson distribution of errors is not\n",
    "gaussian?"
   ]
  },
  {
   "cell_type": "code",
   "execution_count": 8,
   "metadata": {},
   "outputs": [
    {
     "name": "stdout",
     "output_type": "stream",
     "text": [
      "    33 bins; starting bin   1; tau = 2.042+/-0.039 usec\n"
     ]
    }
   ],
   "source": [
    "# A possible approach to correct for the discrepancy is\n",
    "# to average many hundreds of simulated noise fits, and determine the bias\n",
    "# of the curve_fit routine, and then correct our fit for the bias.\n",
    "\n",
    "# Try running this cell multiple times and see how the value of\n",
    "# tau varies.\n",
    "\n",
    "y = func(bins[startingBin:-1], pars[0], pars[1], pars[2])\n",
    "sigma = np.sqrt(y)\n",
    "\n",
    "# If you use \"y * 100\" instead of \"y\", you will recover the initial parameters\n",
    "# quite nicely.\n",
    "\n",
    "yy = np.random.poisson(y)\n",
    "pn, pcn = optimize.curve_fit(func, \n",
    "           bins[startingBin:-1], yy, [0, 3000 * dt, 2],\n",
    "           sigma, absolute_sigma = True)\n",
    "stdev = np.sqrt(np.diag(pcn))\n",
    "print(\"   {:3d} bins; starting bin {:3d}; tau = {:.3f}+/-{:.3f} usec\".format(numberOfBins, startingBin, pn[2], stDev[2]))"
   ]
  },
  {
   "cell_type": "code",
   "execution_count": null,
   "metadata": {
    "collapsed": false,
    "jupyter": {
     "outputs_hidden": false
    }
   },
   "outputs": [],
   "source": [
    "# Here is some code that I wrote some time ago, incorporating\n",
    "# many of the above ideas. Use at your on risk!\n",
    "\n",
    "# Import the optimization code from scipy.\n",
    "\n",
    "from scipy import optimize\n",
    "\n",
    "# Define a function that we will fit to the data. The function\n",
    "# takes an array of values, t, at which to calculate its values, \n",
    "# and parameters, a, b, c, that we wish to fit.\n",
    "\n",
    "# The first function integrates a + b * exp(-c*t) over the bin.\n",
    "# This is the correct way to do it.\n",
    "\n",
    "def func(t, a, b, c):\n",
    "    return a - (b * c / dt) * (np.exp(- (t + dt) / c) - np.exp(-t / c))\n",
    "\n",
    "# This alternative function just uses the value of a + b * exp(-c*t)\n",
    "# at the mid-point of the bin. This will give identical results to\n",
    "# the first function for a and c, but b will differ.\n",
    "\n",
    "def funcAlt(t, a, b, c):\n",
    "    return a + b * np.exp(-(t + dt / 2) / c)\n",
    "\n",
    "# Try various numbers of bins.\n",
    "\n",
    "sumTau = 0.0\n",
    "nnBins = 0\n",
    "\n",
    "for dt in np.arange(0.100, 0.600, 0.040):\n",
    "    nnBins += 1\n",
    "\n",
    "    numberOfBins = round(maxTime / dt)   \n",
    "   \n",
    "    counts, bins = np.histogram(data[:,0], numberOfBins, (0.0, numberOfBins * dt))\n",
    "    dt = bins[1] - bins[0]\n",
    "\n",
    "    # Find the first bin that is later than the estimated deadtime.\n",
    "    \n",
    "    deadtime = 0.4\n",
    "    startingBin = 0\n",
    "    for t in bins:\n",
    "        if t >= deadtime:\n",
    "            break\n",
    "        startingBin += 1\n",
    "\n",
    "# Fitting the function to the data is now as simple as one line, where\n",
    "# [0, 3000 * dt, 0.5] is an initial guess of the parameters. Note\n",
    "# that we artificially increase the sigma for counts less than\n",
    "# 5 per bin, else the fit will be strongly influenced by bins with\n",
    "# few counts (e.g., in the extreme case of 0 counts, sqrt(n) is\n",
    "# also zero; really we should use the average count rate for n\n",
    "# when calculating the Poisson noise)\n",
    "\n",
    "    sigma = 2. + (counts[startingBin:] > 4) * (-2. + np.sqrt(counts[startingBin:]))\n",
    "    pars, pars_covariance = optimize.curve_fit(func, \n",
    "       bins[startingBin:-1], counts[startingBin:], [0, 3000 * dt, 2.0],\n",
    "       sigma, absolute_sigma = True)\n",
    "\n",
    "# We fit the data twice. The second time we improve on the\n",
    "# estimate of the weighting, by using the fitted count rate.\n",
    "   \n",
    "    sigma = np.sqrt(func(bins[startingBin:-1], pars[0], pars[1], pars[2]))\n",
    "    pars, pars_covariance = optimize.curve_fit(func, \n",
    "       bins[startingBin:-1], counts[startingBin:], [0, 3000 * dt, 2.0],\n",
    "       sigma, absolute_sigma = True) \n",
    "    \n",
    "# Now, the next possible problem is that the curve_fit routine may produce a biased\n",
    "# estimate of the parameters in the presence of noise. To quantify this\n",
    "# effect we create a perfect data set from the previous fitted parameters,\n",
    "# and then we try 1000 trials where we add Poisson noise to it and fit\n",
    "# the parameters. We then find the deviation from the average fitted\n",
    "# parameters and the actual parameters, and use this to correct the\n",
    "# parameters found in the call to curve_fit above.\n",
    "\n",
    "    y = func(bins[startingBin:-1], pars[0], pars[1], pars[2])\n",
    "    sigma = np.sqrt(y)\n",
    "    for n in range(1000):\n",
    "        yy = np.random.poisson(y)\n",
    "        pn, pcn = optimize.curve_fit(func, \n",
    "           bins[startingBin:-1], yy, [0, 3000 * dt, 2.0],\n",
    "           sigma, absolute_sigma = True)\n",
    "        stDev = np.sqrt(np.diag(pcn))\n",
    "        if n == 0:\n",
    "            p = pn\n",
    "            pv = stDev\n",
    "        else:\n",
    "            p = np.vstack((p, pn))\n",
    "            pv = np.vstack((pv, stDev))\n",
    "\n",
    "    average = np.average(p, axis = 0, weights = pv)\n",
    "\n",
    "# dtau and dbackground should be zero if curve_fit produced\n",
    "# unbiased estimates.\n",
    "\n",
    "    dtau = average[2] - pars[2]\n",
    "    dbackground = (average[0] - pars[0]) / dt\n",
    "    print(\"dtau = {:.3f}; dbackground = {:.2f}\".format(dtau, dbackground))\n",
    "\n",
    "# This is where we adjust the parameters for the bias.\n",
    "    \n",
    "    dpar = average - pars\n",
    "    pars -= dpar\n",
    "\n",
    "    sumTau += pars[2]\n",
    "    print(\"{:3d} bins; dt = {:.3f}; tau = {:.3f}+/-{:.3f} usec\\n                background = {:.1f}+/-{:.1f} counts/usec\".format(numberOfBins, dt, pars[2], stDev[2], pars[0]/dt, stDev[0]/dt))\n",
    "\n",
    "    plt.errorbar(bins[startingBin:-1] + dt / 2, \n",
    "                 counts[startingBin:] - func(bins[startingBin:-1], pars[0], pars[1], pars[2]), \n",
    "                 np.sqrt(counts[startingBin:]), fmt = 'none')\n",
    "\n",
    "    plt.plot([0, bins[-1]], [0, 0], color='orange', linestyle='-', linewidth=2)\n",
    "#    plt.plot(bins[:-1] + dt / 2, func(bins[:-1], pars[0], pars[1], pars[2]))\n",
    "    plt.xlabel(\"Time [microseconds]\")\n",
    "    plt.ylabel(\"Counts/bin deviation from fit\")\n",
    "    plt.show()\n",
    "\n",
    "print(\"\\nAverage tau = {:.3f} usec\".format(sumTau / nnBins))"
   ]
  },
  {
   "cell_type": "markdown",
   "metadata": {},
   "source": [
    "Here are some results from several data files:\n",
    "\n",
    "|Filename|Muon lifetime [usec]|\n",
    "|----|------|\n",
    "|muon.dat   |$2.112\\pm0.037$|\n",
    "|muon1.dat  |$2.088\\pm0.037$|\n",
    "|muon2.dat  |$2.132\\pm0.035$|\n",
    "|muon4.dat  |$2.126\\pm0.035$|\n",
    "|**Average**|$2.114\\pm0.025$|\n",
    "\n",
    "The lifetime in vacuum is 2.197 usec, and in the lab we should see 2.120 usec. So we are doing very well."
   ]
  },
  {
   "cell_type": "markdown",
   "metadata": {},
   "source": [
    "Michael Ashley 16 Jun 2019, updated 09 Mar 2025"
   ]
  }
 ],
 "metadata": {
  "anaconda-cloud": {},
  "kernelspec": {
   "display_name": "Python 3 (ipykernel)",
   "language": "python",
   "name": "python3"
  },
  "language_info": {
   "codemirror_mode": {
    "name": "ipython",
    "version": 3
   },
   "file_extension": ".py",
   "mimetype": "text/x-python",
   "name": "python",
   "nbconvert_exporter": "python",
   "pygments_lexer": "ipython3",
   "version": "3.12.9"
  }
 },
 "nbformat": 4,
 "nbformat_minor": 4
}
