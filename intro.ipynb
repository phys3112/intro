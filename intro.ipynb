{
 "cells": [
  {
   "cell_type": "markdown",
   "metadata": {},
   "source": [
    "# Introducing Python and Jupyter Notebook\n",
    "\n",
    "by Michael Ashley for the course PHYS3112 at UNSW.\n",
    "\n",
    "To run this Notebook on your computer, you can install Jupyter Notebook by downloading Anaconda from https://www.anaconda.com/download.\n",
    "\n",
    "What you are reading now is an example of a Jupyter Notebook. The basic concept is that of a \"notebook\" containing text and programming code. You can easily edit the notebook using your web browser. The notebook is stored on your computer, and your computer is acting as a web server in order to interact with the browser.\n",
    "\n",
    "You can run the programs in the notebook and see the output of the programs within the notebook. This is a powerful paradigm that is well suited to physics research, particularly when collaborating with other people.\n",
    "\n",
    "\"Cells\" in a Jupyter Notebook are rectangular areas on the page that contain either text (such as this cell) or Python code (such as the simple examples in the following few cells).\n",
    "\n",
    "Text cells can be edited by *double-clicking* anywhere within the cell. Stop editing and display the text by pressing ctrl-ENTER (or shift-ENTER to also advance to the next cell).\n",
    "\n",
    "Code cells can be edited by *single clicking* anywhere within the cell. Execute the code by pressing ctrl-ENTER (or shift-ENTER to also advance to the next cell). The output from running the code is displayed immediately below the cell. \n",
    "\n",
    "You can also put text into a code cell as a comment (i.e., part of a program that is ignored by the computer when running it) by starting the line with the hash character: #. Actually, the hash can appear anywhere on a line, and the text following it, until the end of the line, is regarded as a comment.\n",
    "\n",
    "# How to use this Notebook\n",
    "\n",
    "You can simply read this Notebook from beginning to end, but it is much more instructive to try editing it and explore what happens. You should experiment with changing the program code and running it. You can even start writing your own programs as you learn more.\n",
    "\n",
    "## The following cells show Python being used as a calculator\n",
    "\n"
   ]
  },
  {
   "cell_type": "code",
   "execution_count": 1,
   "metadata": {},
   "outputs": [
    {
     "data": {
      "text/plain": [
       "2"
      ]
     },
     "execution_count": 1,
     "metadata": {},
     "output_type": "execute_result"
    }
   ],
   "source": [
    "# Lines starting with a hash are called comments. You can use them\n",
    "# to explain (to a human) the operation of your code.\n",
    "\n",
    "# Python will print the result of whatever you type into \n",
    "# a code cell. Python can do simple mathematics, e.g.,:\n",
    "\n",
    "1 + 1"
   ]
  },
  {
   "cell_type": "code",
   "execution_count": 64,
   "metadata": {
    "scrolled": true
   },
   "outputs": [
    {
     "data": {
      "text/plain": [
       "0.14285714285714285"
      ]
     },
     "execution_count": 64,
     "metadata": {},
     "output_type": "execute_result"
    }
   ],
   "source": [
    "# Python allows us to save the results of a calculation in a named \n",
    "# variable, e.g., \"a\". This variable will be available in later\n",
    "# cells, provided this cell has been run by pressing shift-ENTER.\n",
    "\n",
    "a = 1 / 7                # variable \"a\" is assigned the result of 1 / 7\n",
    "a                        # the value of variable \"a\" is displayed"
   ]
  },
  {
   "cell_type": "code",
   "execution_count": 65,
   "metadata": {},
   "outputs": [
    {
     "data": {
      "text/plain": [
       "1.1428571428571428"
      ]
     },
     "execution_count": 65,
     "metadata": {},
     "output_type": "execute_result"
    }
   ],
   "source": [
    "# Here we add 1 to \"a\", and reassign it to \"a\".\n",
    "\n",
    "a = a + 1\n",
    "a"
   ]
  },
  {
   "cell_type": "markdown",
   "metadata": {},
   "source": [
    "Mathematically, \"a = a + 1\" would be a false statement, but for most computing languages, the equals operator is use to update a variable, not to check for equality.\n",
    "\n",
    "With integer division you have to be careful. Python version 3 and above will give you a floating-point result, whereas earlier versions removed the decimals (so 1/7 becomes 0, as does 6/7). If you want this so-called \"floor division\" in Python 3, use the \"//\" operator instead of \"/\"."
   ]
  },
  {
   "cell_type": "code",
   "execution_count": 3,
   "metadata": {},
   "outputs": [
    {
     "data": {
      "text/plain": [
       "0"
      ]
     },
     "execution_count": 3,
     "metadata": {},
     "output_type": "execute_result"
    }
   ],
   "source": [
    "# Floor division removes the numbers after the decimal point.\n",
    "# This is not the same as rounding.\n",
    "\n",
    "1 // 7"
   ]
  },
  {
   "cell_type": "code",
   "execution_count": 4,
   "metadata": {},
   "outputs": [
    {
     "data": {
      "text/plain": [
       "1"
      ]
     },
     "execution_count": 4,
     "metadata": {},
     "output_type": "execute_result"
    }
   ],
   "source": [
    "# To round a floating-point number to the nearest integer, use\n",
    "# the `round` function:\n",
    "\n",
    "round(4 / 7)"
   ]
  },
  {
   "cell_type": "code",
   "execution_count": 5,
   "metadata": {},
   "outputs": [
    {
     "data": {
      "text/plain": [
       "1"
      ]
     },
     "execution_count": 5,
     "metadata": {},
     "output_type": "execute_result"
    }
   ],
   "source": [
    "# Modulo division gives the remainder after division:\n",
    "\n",
    "8 % 7"
   ]
  },
  {
   "cell_type": "code",
   "execution_count": 6,
   "metadata": {},
   "outputs": [
    {
     "data": {
      "text/plain": [
       "2048"
      ]
     },
     "execution_count": 6,
     "metadata": {},
     "output_type": "execute_result"
    }
   ],
   "source": [
    "# Multiplication uses an asterisk:\n",
    "\n",
    "32 * 64"
   ]
  },
  {
   "cell_type": "code",
   "execution_count": 7,
   "metadata": {},
   "outputs": [
    {
     "data": {
      "text/plain": [
       "32"
      ]
     },
     "execution_count": 7,
     "metadata": {},
     "output_type": "execute_result"
    }
   ],
   "source": [
    "# Exponents use two asterisks. E.g., two to the power five:\n",
    "\n",
    "2**5"
   ]
  },
  {
   "cell_type": "code",
   "execution_count": 8,
   "metadata": {},
   "outputs": [
    {
     "data": {
      "text/plain": [
       "0.031"
      ]
     },
     "execution_count": 8,
     "metadata": {},
     "output_type": "execute_result"
    }
   ],
   "source": [
    "# Scientific notation.\n",
    "\n",
    "3.1E-2"
   ]
  },
  {
   "cell_type": "markdown",
   "metadata": {},
   "source": [
    "Let's investigate Python's floating-point precision, i.e., how many decimal digits it carries in calculations. One way to do this is to perform calculations such $(\\sqrt 2)^2-2$, or $(\\sin(2\\pi/3))^2-0.75$, the answers to which should be exactly zero. The reciprocal of the answers to these calculations will be approximately the number of digits of precision."
   ]
  },
  {
   "cell_type": "code",
   "execution_count": 9,
   "metadata": {},
   "outputs": [
    {
     "name": "stdout",
     "output_type": "stream",
     "text": [
      "4.440892098500626e-16\n",
      "1.1102230246251565e-16\n"
     ]
    }
   ],
   "source": [
    "import numpy as np   # We will explain this line later...\n",
    "\n",
    "\n",
    "print((2**0.5)**2 - 2)\n",
    "print((np.sin(np.pi*2/3))**2 - 0.75)"
   ]
  },
  {
   "cell_type": "markdown",
   "metadata": {},
   "source": [
    "Note that we used `print` statements above, since Jupyter notebook only displays the last result of a cell by default.  We could have left out the last `print`.\n",
    "\n",
    "Anyway, it looks like we have about 15 digits of floating-point precision, which is what you expect from an [IEEE 64-bit floating-point number](https://en.wikipedia.org/wiki/IEEE_754-1985). I.e., if you have 64 binary bits available, then you can store a number with about 15 decimal digits of signed mantissa, and a few digits of signed exponent. Modern computers tend to work most naturally with 64 bits at a time. A decade or more ago, 32 bits was the most common length for storing a number.\n",
    "\n",
    "How about integer calculations? Are we limited to the largest integers that can be stored in 64 bits? Let's see:"
   ]
  },
  {
   "cell_type": "code",
   "execution_count": 10,
   "metadata": {},
   "outputs": [
    {
     "data": {
      "text/plain": [
       "3908159226643238733174614283614836731126768107046341227250667472076853556843013838172049588691174330707818243450118448302812729951247321576513166624369426519566175521146060765081679976758041720679300544142578899999682218145590731711215852375861916259684264866953944533853780206232109689860956552348006732061695789938930646213944790078445226547509325302609329069445117085739611168420511100727807029960219755304683343928522835681236580544749345772997687789272005780505845692810279598474814928801575139205787258048513369093710961312514682075899525393917486191722044010992536554254433346757797401453317441157668323475117378300300675380311411783720892291860208840935427421876878495172143644788379083826461955232814452670024106634029782444314857725946984340662589552137681187058855370840678104158373102913142935322248166923135606488577076176786571072087787275721151671449698445547824376581179228842823243076579850082699440910879690172701654935338585419237394528910219466400398711390146945174827484382033620349117027739850870285498619302796390659011030983899571129475531951900699941995728715779973392015185546940934704246331341905671381265137758178677705185913030002603348040480378452842334938835344896384986472605870643265219489006098190067654108321170943392355400613564249445645639510323755781809289920764767965983067048457794256504910798982324928635401543742404992470685295256712710005713066462569470457811357440928814052826871480405082643768534413838217558052879567404685419337070919454165543913926254797535062175403291840282437565784510890527884282609693788352728845075427184666736270904718599967377231129340602704541090595660344392945021559935525438319887090353617135488670209943492849139965846896740313626495887105269676175557097165018916853148260794391708438199220888781289029685829505315773902138853990717604142885719601697094720405328129745119056694810317474513400330333517233611193133379954007384384395034058799871873253376"
      ]
     },
     "execution_count": 10,
     "metadata": {},
     "output_type": "execute_result"
    }
   ],
   "source": [
    "2**6400"
   ]
  },
  {
   "cell_type": "markdown",
   "metadata": {},
   "source": [
    "Wow, that it impressive! It looks like we have unlimited numbers of digits for integers. This is a huge advantage for some sorts of calculations. The downside will be that integer arithmetic is going to be much slower than if it was limited to 64 bits. Then again, if you really need exact integer arithmetic without overflows, Python is one of the few programming languages to provide it easily."
   ]
  },
  {
   "cell_type": "code",
   "execution_count": 11,
   "metadata": {},
   "outputs": [
    {
     "data": {
      "text/plain": [
       "True"
      ]
     },
     "execution_count": 11,
     "metadata": {},
     "output_type": "execute_result"
    }
   ],
   "source": [
    "# Python will also evaluate logical statements. Note the use of the double equals\n",
    "# operator to test whether two things are equal. Single equals is for assignment\n",
    "# of values to variables.\n",
    "\n",
    "1 == 1"
   ]
  },
  {
   "cell_type": "code",
   "execution_count": 12,
   "metadata": {},
   "outputs": [
    {
     "data": {
      "text/plain": [
       "False"
      ]
     },
     "execution_count": 12,
     "metadata": {},
     "output_type": "execute_result"
    }
   ],
   "source": [
    "1 > 2"
   ]
  },
  {
   "cell_type": "code",
   "execution_count": 13,
   "metadata": {},
   "outputs": [
    {
     "name": "stdout",
     "output_type": "stream",
     "text": [
      "b is less than or equal to five\n"
     ]
    }
   ],
   "source": [
    "# You can use logical operators in if/else statements:\n",
    "\n",
    "b = 5\n",
    "if b > 5:\n",
    "    print('b is greater than five')\n",
    "else:\n",
    "    print('b is less than or equal to five')"
   ]
  },
  {
   "cell_type": "code",
   "execution_count": 14,
   "metadata": {},
   "outputs": [
    {
     "data": {
      "text/plain": [
       "True"
      ]
     },
     "execution_count": 14,
     "metadata": {},
     "output_type": "execute_result"
    }
   ],
   "source": [
    "# The following expression uses all the available\n",
    "# logical operators (and, or, not).\n",
    "# Parenthesis are useful to make the meaning of complicated\n",
    "# logical expressions clear.\n",
    "\n",
    "((1 < 2) and (2 <= 2) and (1 != 2)) or (2 > 1) or not (2 == 2)"
   ]
  },
  {
   "cell_type": "markdown",
   "metadata": {},
   "source": [
    "## Case sensitivity\n",
    "\n",
    "Python cares whether letters are capitalised. The variables we have used so-far are called 'a' and 'b'. Note that 'A' and 'B' are entirely different (currently not defined) variables. If you want to read in a file called 'flight_variables.txt' but you ask for 'Flight_Variables.txt', it will not find your file.\n",
    "\n",
    "Let's see what happens when you run the next cell, when 'A' is not defined."
   ]
  },
  {
   "cell_type": "code",
   "execution_count": 15,
   "metadata": {},
   "outputs": [
    {
     "ename": "NameError",
     "evalue": "name 'A' is not defined",
     "output_type": "error",
     "traceback": [
      "\u001b[0;31m---------------------------------------------------------------------------\u001b[0m",
      "\u001b[0;31mNameError\u001b[0m                                 Traceback (most recent call last)",
      "\u001b[0;32m<ipython-input-15-7d157d7c000a>\u001b[0m in \u001b[0;36m<module>\u001b[0;34m\u001b[0m\n\u001b[0;32m----> 1\u001b[0;31m \u001b[0mA\u001b[0m\u001b[0;34m\u001b[0m\u001b[0;34m\u001b[0m\u001b[0m\n\u001b[0m",
      "\u001b[0;31mNameError\u001b[0m: name 'A' is not defined"
     ]
    }
   ],
   "source": [
    "A"
   ]
  },
  {
   "cell_type": "markdown",
   "metadata": {},
   "source": [
    "## Libraries\n",
    "\n",
    "When you first start up Python, it will already have quite a large number of functions available. Its so-called *standard library* of functions is pretty large.\n",
    "\n",
    "However, there are a number of mathematical operations and data types that are important for working with data that are not part of the standard library. These can be installed as part of Anaconda, and once you *import* them, you can use them.\n",
    "\n",
    "Some libraries have sub-libraries for specific purposes, and you can import just the sub-library if that's all you want.\n",
    "\n",
    "One programming style is to do all of your imports in one cell at the start of your notebook. Alternatively, add imports to each cell that needs them, so that the cells can be executed independently of any others."
   ]
  },
  {
   "cell_type": "markdown",
   "metadata": {},
   "source": [
    "# Importing libraries works like this\n",
    "\n",
    "If you want the whole library to be directly available:"
   ]
  },
  {
   "cell_type": "code",
   "execution_count": 16,
   "metadata": {},
   "outputs": [],
   "source": [
    "# pandas is a very useful library of data analysis tools.\n",
    "\n",
    "import pandas"
   ]
  },
  {
   "cell_type": "markdown",
   "metadata": {},
   "source": [
    "To avoid lots of typing, you can modify the name of the imported functions, e.g., after the following example we can refer to np.pi rather than numpy.pi."
   ]
  },
  {
   "cell_type": "code",
   "execution_count": 17,
   "metadata": {},
   "outputs": [],
   "source": [
    "# numpy is an essential set of mathematical tools, we will be\n",
    "# using it in almost every program in this course.\n",
    "\n",
    "import numpy as np"
   ]
  },
  {
   "cell_type": "code",
   "execution_count": 18,
   "metadata": {},
   "outputs": [
    {
     "name": "stdout",
     "output_type": "stream",
     "text": [
      "3.141592653589793 0.8660254037844386 5.0\n"
     ]
    }
   ],
   "source": [
    "# The routines in numpy can now be accessed like this, rather\n",
    "# than having to type \"numpy\" each time:\n",
    "\n",
    "print(np.pi, np.abs(np.sin(np.pi / 3)), np.mean([1,3,5,7,9]))"
   ]
  },
  {
   "cell_type": "markdown",
   "metadata": {},
   "source": [
    "And if you're not sure what routines are available in numpy, or what the one you want is called, Jupyter can show you a list. E.g., if you type 'np.g' and then press the tab key, you will see a list of all numpy functions that start with a 'g'. NOTE: you must have executed the earlier `import numpy as np` cell for this to work here; also note that it can take a while for the computer to respond to the tab since there may be a lot of functions to display."
   ]
  },
  {
   "cell_type": "code",
   "execution_count": null,
   "metadata": {
    "scrolled": true
   },
   "outputs": [],
   "source": [
    "np.g"
   ]
  },
  {
   "cell_type": "markdown",
   "metadata": {},
   "source": [
    "To obtain documentation on a function, you can use the `help()` function"
   ]
  },
  {
   "cell_type": "code",
   "execution_count": 20,
   "metadata": {},
   "outputs": [
    {
     "name": "stdout",
     "output_type": "stream",
     "text": [
      "Help on function gradient in module numpy:\n",
      "\n",
      "gradient(f, *varargs, axis=None, edge_order=1)\n",
      "    Return the gradient of an N-dimensional array.\n",
      "    \n",
      "    The gradient is computed using second order accurate central differences\n",
      "    in the interior points and either first or second order accurate one-sides\n",
      "    (forward or backwards) differences at the boundaries.\n",
      "    The returned gradient hence has the same shape as the input array.\n",
      "    \n",
      "    Parameters\n",
      "    ----------\n",
      "    f : array_like\n",
      "        An N-dimensional array containing samples of a scalar function.\n",
      "    varargs : list of scalar or array, optional\n",
      "        Spacing between f values. Default unitary spacing for all dimensions.\n",
      "        Spacing can be specified using:\n",
      "    \n",
      "        1. single scalar to specify a sample distance for all dimensions.\n",
      "        2. N scalars to specify a constant sample distance for each dimension.\n",
      "           i.e. `dx`, `dy`, `dz`, ...\n",
      "        3. N arrays to specify the coordinates of the values along each\n",
      "           dimension of F. The length of the array must match the size of\n",
      "           the corresponding dimension\n",
      "        4. Any combination of N scalars/arrays with the meaning of 2. and 3.\n",
      "    \n",
      "        If `axis` is given, the number of varargs must equal the number of axes.\n",
      "        Default: 1.\n",
      "    \n",
      "    edge_order : {1, 2}, optional\n",
      "        Gradient is calculated using N-th order accurate differences\n",
      "        at the boundaries. Default: 1.\n",
      "    \n",
      "        .. versionadded:: 1.9.1\n",
      "    \n",
      "    axis : None or int or tuple of ints, optional\n",
      "        Gradient is calculated only along the given axis or axes\n",
      "        The default (axis = None) is to calculate the gradient for all the axes\n",
      "        of the input array. axis may be negative, in which case it counts from\n",
      "        the last to the first axis.\n",
      "    \n",
      "        .. versionadded:: 1.11.0\n",
      "    \n",
      "    Returns\n",
      "    -------\n",
      "    gradient : ndarray or list of ndarray\n",
      "        A list of ndarrays (or a single ndarray if there is only one dimension)\n",
      "        corresponding to the derivatives of f with respect to each dimension.\n",
      "        Each derivative has the same shape as f.\n",
      "    \n",
      "    Examples\n",
      "    --------\n",
      "    >>> f = np.array([1, 2, 4, 7, 11, 16], dtype=float)\n",
      "    >>> np.gradient(f)\n",
      "    array([1. , 1.5, 2.5, 3.5, 4.5, 5. ])\n",
      "    >>> np.gradient(f, 2)\n",
      "    array([0.5 ,  0.75,  1.25,  1.75,  2.25,  2.5 ])\n",
      "    \n",
      "    Spacing can be also specified with an array that represents the coordinates\n",
      "    of the values F along the dimensions.\n",
      "    For instance a uniform spacing:\n",
      "    \n",
      "    >>> x = np.arange(f.size)\n",
      "    >>> np.gradient(f, x)\n",
      "    array([1. ,  1.5,  2.5,  3.5,  4.5,  5. ])\n",
      "    \n",
      "    Or a non uniform one:\n",
      "    \n",
      "    >>> x = np.array([0., 1., 1.5, 3.5, 4., 6.], dtype=float)\n",
      "    >>> np.gradient(f, x)\n",
      "    array([1. ,  3. ,  3.5,  6.7,  6.9,  2.5])\n",
      "    \n",
      "    For two dimensional arrays, the return will be two arrays ordered by\n",
      "    axis. In this example the first array stands for the gradient in\n",
      "    rows and the second one in columns direction:\n",
      "    \n",
      "    >>> np.gradient(np.array([[1, 2, 6], [3, 4, 5]], dtype=float))\n",
      "    [array([[ 2.,  2., -1.],\n",
      "           [ 2.,  2., -1.]]), array([[1. , 2.5, 4. ],\n",
      "           [1. , 1. , 1. ]])]\n",
      "    \n",
      "    In this example the spacing is also specified:\n",
      "    uniform for axis=0 and non uniform for axis=1\n",
      "    \n",
      "    >>> dx = 2.\n",
      "    >>> y = [1., 1.5, 3.5]\n",
      "    >>> np.gradient(np.array([[1, 2, 6], [3, 4, 5]], dtype=float), dx, y)\n",
      "    [array([[ 1. ,  1. , -0.5],\n",
      "           [ 1. ,  1. , -0.5]]), array([[2. , 2. , 2. ],\n",
      "           [2. , 1.7, 0.5]])]\n",
      "    \n",
      "    It is possible to specify how boundaries are treated using `edge_order`\n",
      "    \n",
      "    >>> x = np.array([0, 1, 2, 3, 4])\n",
      "    >>> f = x**2\n",
      "    >>> np.gradient(f, edge_order=1)\n",
      "    array([1.,  2.,  4.,  6.,  7.])\n",
      "    >>> np.gradient(f, edge_order=2)\n",
      "    array([0., 2., 4., 6., 8.])\n",
      "    \n",
      "    The `axis` keyword can be used to specify a subset of axes of which the\n",
      "    gradient is calculated\n",
      "    \n",
      "    >>> np.gradient(np.array([[1, 2, 6], [3, 4, 5]], dtype=float), axis=0)\n",
      "    array([[ 2.,  2., -1.],\n",
      "           [ 2.,  2., -1.]])\n",
      "    \n",
      "    Notes\n",
      "    -----\n",
      "    Assuming that :math:`f\\in C^{3}` (i.e., :math:`f` has at least 3 continuous\n",
      "    derivatives) and let :math:`h_{*}` be a non-homogeneous stepsize, we\n",
      "    minimize the \"consistency error\" :math:`\\eta_{i}` between the true gradient\n",
      "    and its estimate from a linear combination of the neighboring grid-points:\n",
      "    \n",
      "    .. math::\n",
      "    \n",
      "        \\eta_{i} = f_{i}^{\\left(1\\right)} -\n",
      "                    \\left[ \\alpha f\\left(x_{i}\\right) +\n",
      "                            \\beta f\\left(x_{i} + h_{d}\\right) +\n",
      "                            \\gamma f\\left(x_{i}-h_{s}\\right)\n",
      "                    \\right]\n",
      "    \n",
      "    By substituting :math:`f(x_{i} + h_{d})` and :math:`f(x_{i} - h_{s})`\n",
      "    with their Taylor series expansion, this translates into solving\n",
      "    the following the linear system:\n",
      "    \n",
      "    .. math::\n",
      "    \n",
      "        \\left\\{\n",
      "            \\begin{array}{r}\n",
      "                \\alpha+\\beta+\\gamma=0 \\\\\n",
      "                \\beta h_{d}-\\gamma h_{s}=1 \\\\\n",
      "                \\beta h_{d}^{2}+\\gamma h_{s}^{2}=0\n",
      "            \\end{array}\n",
      "        \\right.\n",
      "    \n",
      "    The resulting approximation of :math:`f_{i}^{(1)}` is the following:\n",
      "    \n",
      "    .. math::\n",
      "    \n",
      "        \\hat f_{i}^{(1)} =\n",
      "            \\frac{\n",
      "                h_{s}^{2}f\\left(x_{i} + h_{d}\\right)\n",
      "                + \\left(h_{d}^{2} - h_{s}^{2}\\right)f\\left(x_{i}\\right)\n",
      "                - h_{d}^{2}f\\left(x_{i}-h_{s}\\right)}\n",
      "                { h_{s}h_{d}\\left(h_{d} + h_{s}\\right)}\n",
      "            + \\mathcal{O}\\left(\\frac{h_{d}h_{s}^{2}\n",
      "                                + h_{s}h_{d}^{2}}{h_{d}\n",
      "                                + h_{s}}\\right)\n",
      "    \n",
      "    It is worth noting that if :math:`h_{s}=h_{d}`\n",
      "    (i.e., data are evenly spaced)\n",
      "    we find the standard second order approximation:\n",
      "    \n",
      "    .. math::\n",
      "    \n",
      "        \\hat f_{i}^{(1)}=\n",
      "            \\frac{f\\left(x_{i+1}\\right) - f\\left(x_{i-1}\\right)}{2h}\n",
      "            + \\mathcal{O}\\left(h^{2}\\right)\n",
      "    \n",
      "    With a similar procedure the forward/backward approximations used for\n",
      "    boundaries can be derived.\n",
      "    \n",
      "    References\n",
      "    ----------\n",
      "    .. [1]  Quarteroni A., Sacco R., Saleri F. (2007) Numerical Mathematics\n",
      "            (Texts in Applied Mathematics). New York: Springer.\n",
      "    .. [2]  Durran D. R. (1999) Numerical Methods for Wave Equations\n",
      "            in Geophysical Fluid Dynamics. New York: Springer.\n",
      "    .. [3]  Fornberg B. (1988) Generation of Finite Difference Formulas on\n",
      "            Arbitrarily Spaced Grids,\n",
      "            Mathematics of Computation 51, no. 184 : 699-706.\n",
      "            `PDF <http://www.ams.org/journals/mcom/1988-51-184/\n",
      "            S0025-5718-1988-0935077-0/S0025-5718-1988-0935077-0.pdf>`_.\n",
      "\n",
      "Help on built-in function round in module builtins:\n",
      "\n",
      "round(number, ndigits=None)\n",
      "    Round a number to a given precision in decimal digits.\n",
      "    \n",
      "    The return value is an integer if ndigits is omitted or None.  Otherwise\n",
      "    the return value has the same type as the number.  ndigits may be negative.\n",
      "\n"
     ]
    }
   ],
   "source": [
    "help(np.gradient)\n",
    "help(round)"
   ]
  },
  {
   "cell_type": "markdown",
   "metadata": {},
   "source": [
    "You can also import just a sub-library if that is all that you need:"
   ]
  },
  {
   "cell_type": "code",
   "execution_count": 6,
   "metadata": {},
   "outputs": [],
   "source": [
    "import matplotlib.pyplot as plt\n",
    "\n",
    "# (matplotlib.pyplot is the library you need for almost\n",
    "# all plots and figures. It has a large number of options).\n",
    "\n",
    "%matplotlib inline\n",
    "\n",
    "# The above command makes your matplotpib.pyplot figures\n",
    "# show up in your notebook, which is generally what you want.\n",
    "# Another approach is to say:\n",
    "\n",
    "# Uncomment the next line to activate notebook mode.\n",
    "\n",
    "#%matplotlib notebook  \n",
    "\n",
    "# This makes the plots interactive, i.e., you can pan, zoom\n",
    "# and scale them within the browser. Click on the \"power\" \n",
    "# icon, to the right of the Figure heading, when you have finished."
   ]
  },
  {
   "cell_type": "markdown",
   "metadata": {},
   "source": [
    "## Important note: restarting the Python notebook kernel\n",
    "\n",
    "Sometimes Python notebook has a glitch and doesn't work as you might expect. This happened to us in lectures when uncommenting the above `%matplotlib notebook` line. The solution is to restart the kernel using `Kernel -> Restart` from the menu bar. After doing this you will have to re-run any previous cells that you are dependent on (e.g., `import numpy` statments)."
   ]
  },
  {
   "cell_type": "code",
   "execution_count": 22,
   "metadata": {},
   "outputs": [
    {
     "data": {
      "text/plain": [
       "[<matplotlib.lines.Line2D at 0x7fe59c7b71f0>]"
      ]
     },
     "execution_count": 22,
     "metadata": {},
     "output_type": "execute_result"
    },
    {
     "data": {
      "image/png": "[encoded data removed]",
      "text/plain": [
       "<Figure size 432x288 with 1 Axes>"
      ]
     },
     "metadata": {
      "needs_background": "light"
     },
     "output_type": "display_data"
    }
   ],
   "source": [
    "# Now try plotting 5 points. See if you can work out how the points are defined.\n",
    "\n",
    "plt.plot([1,3,5,7,9], [1,9,25,49,81])"
   ]
  },
  {
   "cell_type": "markdown",
   "metadata": {},
   "source": [
    "# Using \"Markdown\" to enter text and equations\n",
    "\n",
    "Text cells, such as this one, contain normal text (such as the words in this sentence), with a few non-alphabetic characters used for special formating such as headings, italics, dot points, and mathematics. \n",
    "\n",
    "The special formatting is called \"Markdown\", and various versions of it are widely used throughout the internet. The version we are using is, I think, \"github flavoured Markdown\". Markdown is sufficiently rich in features that you can produce fairly reasonable documents with it.\n",
    "\n",
    "Double-click somewhere in this cell to see the Markdown source for the cell. You can then press ctrl-ENTER to process the Markdown into displayed text.\n",
    "\n",
    "Here are some examples of Markdown:\n",
    "\n",
    "# To create a big heading, begin the line with a single hash\n",
    "\n",
    "## More hashes produce \n",
    "\n",
    "### smaller\n",
    "\n",
    "#### and smaller headings\n",
    "\n",
    "* a dot point starts with an asterisk\n",
    "* here is another dot point\n",
    "* **bold text is delimited by double asterisks** like `**this**`\n",
    "* *Italic text uses single asterisks*\n",
    "\n",
    "  And here is a paragraph within a list item.\n",
    "  \n",
    "* **_bold italic_ is delimited by underscores within double asterisks** like `**_this_**`\n",
    "* `monospaced font`, useful for code snippets, is done using backticks\n",
    "* You might find a use for ~~strikethrough~~ text\n",
    "\n",
    "Here is some in-line LaTeX for mathematics: $\\pi\\approx3.14159$\n",
    "\n",
    "```\n",
    "If you want a block of text to appear verbatim with a monospaced\n",
    "font, enclose the text with lines containing triple opening single quotes.\n",
    "Note that Markdown processing is suspended in verbatim mode,\n",
    "so you can type $\\pi$ and **bold** and have them displayed without interpretation\n",
    "```\n",
    "\n",
    "Block quotes can be useful, as Richard Feynman said:\n",
    "\n",
    "> For a successful technology, reality must take precedence over public relations,\n",
    "> for Nature *cannot* be fooled.\n",
    "\n",
    "Hyperlinks are easy, e.g, here is [Michael Ashley's homepage](http://www.phys.unsw.edu.au/~mcba), or you can just use angle brackets to make a self-labelled link <https://oeis.org> (which is an interesting site to visit).\n",
    "\n",
    "An enumerated list:\n",
    "1. Uno\n",
    "2. Dos\n",
    "3. Tres\n",
    "  1. Indent by two spaces\n",
    "  2. for this effect\n",
    "    1. And another two spaces\n",
    "    2. for another level of indentation\n",
    "   \n",
    "Tables | Are | Easy\n",
    ":---|:---:|---:\n",
    "Note|the|alignment mechanism\n",
    "Left|centred|right\n",
    "1|2|3\n",
    "\n",
    "You can add a horizontal rule using at least three dashes)\n",
    "\n",
    "---\n",
    "\n",
    "Here is the black body function as a equation on a separate line: $$b_\\nu={2h\\nu^3\\over{c^2}}{1\\over{\\exp({h\\nu\\over{kT}})-1}}$$\n",
    "\n",
    "Images can be easily inserted too:\n",
    "\n",
    "![Text displayed if the image can't be displayed](http://www.phys.unsw.edu.au/~mcba/sfdsc06640.jpg \"Text displayed if you hover over the image\")"
   ]
  },
  {
   "cell_type": "markdown",
   "metadata": {},
   "source": [
    "## Data types\n",
    "\n",
    "Python has a rich set of data types, suitable for different situations and purposes. The following cell shows examples of all of Python's built-in data types."
   ]
  },
  {
   "cell_type": "code",
   "execution_count": 23,
   "metadata": {},
   "outputs": [
    {
     "name": "stdout",
     "output_type": "stream",
     "text": [
      "4 1.234 (2.4+6.8j) UNSW IS AN ACRONYM ['arbitrary content', (1.2+3.4j)] ({}, (1.2+3.4j)) 2 {(1, 2), 'a', 2, 'b'} True\n"
     ]
    }
   ],
   "source": [
    "# integers\n",
    "\n",
    "t = 4 \n",
    "\n",
    "# floating-point numbers\n",
    "\n",
    "a = 1.234 \n",
    "\n",
    "# complex numbers\n",
    "\n",
    "b = 1.2 + 3.4j \n",
    "\n",
    "# strings; immutable\n",
    "\n",
    "c = 'UNSW is an acronym'\n",
    "\n",
    "# lists of things; mutable ordered collections of arbitrary objects\n",
    "\n",
    "d = [1, 2, 3, ['arbitrary content', 1.2 + 3.4j]] \n",
    "\n",
    "# tuples; immutable ordered collections of arbitrary objects\n",
    "\n",
    "e = (1, 'red', 1.2 + 3.4j, {})\n",
    "\n",
    "# dictionaries; mutable mappings from one \"hashable\" object\n",
    "# to another object (which doesn't have to be \"hashable\")\n",
    "\n",
    "f = {'red' : 1, 'green' : 2, (1, 2) : 3}\n",
    "\n",
    "# sets; mutable collections of unique and immutable objects\n",
    "\n",
    "g = {'a', 'b', 2, (1, 2)} \n",
    "\n",
    "print(t, a, b * 2, c.upper(), d[3], e[3:1:-1], f['green'], g, 'b' in g)"
   ]
  },
  {
   "cell_type": "markdown",
   "metadata": {},
   "source": [
    "Note the concepts of an object being *mutable* (i.e., able to be changed), and *immutable* (can not be changed).\n",
    "\n",
    "Some data types can contain more than one object, in which case they are called *collections*.\n",
    "\n",
    "Collections may be *ordered* (i.e., can be uniquely indexed using the natural integers; this applies to *lists* and *tuples*), or not (e.g., *sets* do not have an order). The concepts of an order for a \"dictionary\" is not obvious; you might think that alphabetical sorting would be a well-defined way of ordering a dictionary, but the \"words\" in a Python dictionary can be immutable objects such as lists, which don't have an obvious way of deciding \"which comes first\". Until recently, Python dictionaries were unordered, but they are now \"insertion ordered\", which means that they maintain the order in which they were constructed. Mathematically, a set does not have an order (i.e., {'a', 'b'} is exactly the same set as {'b', 'a'}, however, Python does allow you to specify that a set is ordered.\n",
    "\n",
    "Finally, a *mapping* is the mathematical concept of associating one object with another (e.g., 'red' maps to 1 in the above example). In normal English-language usage, a \"dictionary\" maps words to their definitions."
   ]
  },
  {
   "cell_type": "code",
   "execution_count": 24,
   "metadata": {},
   "outputs": [
    {
     "name": "stdout",
     "output_type": "stream",
     "text": [
      "1\n"
     ]
    },
    {
     "ename": "TypeError",
     "evalue": "'tuple' object does not support item assignment",
     "output_type": "error",
     "traceback": [
      "\u001b[0;31m---------------------------------------------------------------------------\u001b[0m",
      "\u001b[0;31mTypeError\u001b[0m                                 Traceback (most recent call last)",
      "\u001b[0;32m<ipython-input-24-59321edf4ac3>\u001b[0m in \u001b[0;36m<module>\u001b[0;34m\u001b[0m\n\u001b[1;32m      3\u001b[0m \u001b[0;34m\u001b[0m\u001b[0m\n\u001b[1;32m      4\u001b[0m \u001b[0mprint\u001b[0m\u001b[0;34m(\u001b[0m\u001b[0me\u001b[0m\u001b[0;34m[\u001b[0m\u001b[0;36m0\u001b[0m\u001b[0;34m]\u001b[0m\u001b[0;34m)\u001b[0m\u001b[0;34m\u001b[0m\u001b[0;34m\u001b[0m\u001b[0m\n\u001b[0;32m----> 5\u001b[0;31m \u001b[0me\u001b[0m\u001b[0;34m[\u001b[0m\u001b[0;36m0\u001b[0m\u001b[0;34m]\u001b[0m \u001b[0;34m=\u001b[0m \u001b[0;36m2\u001b[0m\u001b[0;34m\u001b[0m\u001b[0;34m\u001b[0m\u001b[0m\n\u001b[0m\u001b[1;32m      6\u001b[0m \u001b[0mprint\u001b[0m\u001b[0;34m(\u001b[0m\u001b[0me\u001b[0m\u001b[0;34m[\u001b[0m\u001b[0;36m0\u001b[0m\u001b[0;34m]\u001b[0m\u001b[0;34m)\u001b[0m\u001b[0;34m\u001b[0m\u001b[0;34m\u001b[0m\u001b[0m\n",
      "\u001b[0;31mTypeError\u001b[0m: 'tuple' object does not support item assignment"
     ]
    }
   ],
   "source": [
    "# Here we try to alter the first object in the tuple \"e\".\n",
    "# Since tuples are immutable, this fails.\n",
    "\n",
    "print(e[0])\n",
    "e[0] = 2\n",
    "print(e[0])"
   ]
  },
  {
   "cell_type": "markdown",
   "metadata": {},
   "source": [
    "Try executing the previous cell with \"d\" rather than \"e\". Do you see the difference?\n",
    "\n",
    "So why do we have immutable objects?\n",
    "\n",
    "They have some uses, e.g., it helps with program optimisation to know when some things can't change; dictionary keys have to be immutable (see the discussion after the next cell)."
   ]
  },
  {
   "cell_type": "code",
   "execution_count": 25,
   "metadata": {},
   "outputs": [
    {
     "name": "stdout",
     "output_type": "stream",
     "text": [
      "1\n"
     ]
    },
    {
     "data": {
      "text/plain": [
       "{'red': [0, 1], 'green': 2, (1, 2): 3}"
      ]
     },
     "execution_count": 25,
     "metadata": {},
     "output_type": "execute_result"
    }
   ],
   "source": [
    "# Here we alter the mapping of 'red' in the dictionary \"f\". \n",
    "# This succeeds since dictionaries are mutable. Note that when\n",
    "# you display the value of \"f\", the order of the\n",
    "# mappings returned is not defined.\n",
    "\n",
    "print(f['red'])\n",
    "f['red'] = [0,1]\n",
    "f"
   ]
  },
  {
   "cell_type": "markdown",
   "metadata": {},
   "source": [
    "When creating a dictionary, the *keys* are the objects to the left of the colon, and the *values* are the objects to the right. E.g., `'red'` is a key, and `3` is its value. Note that keys have to be immutable objects (this is a requirement based on how dictionaries are stored for quick access), but values can be mutable.\n",
    "\n",
    "Sets in Python are like their mathematical namesakes. The order of elements is irrelevant, and multiple identical elements are redundant (i.e., `{1,1}` is the same as `{1}`)."
   ]
  },
  {
   "cell_type": "code",
   "execution_count": 26,
   "metadata": {},
   "outputs": [
    {
     "name": "stdout",
     "output_type": "stream",
     "text": [
      "True\n",
      "False\n",
      "True\n"
     ]
    }
   ],
   "source": [
    "print({1, 'a'} == {'a', 1})  # Showing that the order of \n",
    "                             #   elements is irrelevant.\n",
    "print((1, 'a') == ('a', 1))  # Which isn't the case for tuples.\n",
    "print({1,1,1}  == {1})       # Showing that multiple identical \n",
    "                             #   elements shortened to one"
   ]
  },
  {
   "cell_type": "markdown",
   "metadata": {},
   "source": [
    "## Arrays\n",
    "\n",
    "To construct one-dimensional or multi-dimensional arrays of numbers, you need to use a *function* such as np.array or np.ndarray:"
   ]
  },
  {
   "cell_type": "code",
   "execution_count": 27,
   "metadata": {},
   "outputs": [
    {
     "data": {
      "text/plain": [
       "array([8, 7, 6, 5, 4, 3, 2])"
      ]
     },
     "execution_count": 27,
     "metadata": {},
     "output_type": "execute_result"
    }
   ],
   "source": [
    "import numpy as np\n",
    "\n",
    "# A 1D array.\n",
    "\n",
    "np.array([8,7,6,5,4,3,2])"
   ]
  },
  {
   "cell_type": "markdown",
   "metadata": {},
   "source": [
    "Try squaring the numbers in the array by adding `**2` at the end of the line above. What happens if you use `**100` instead? Next try changing the `8` to `8.0`. Can you explaining what is going on?\n",
    "\n",
    "Note that, for efficiency, numpy uses reserves a fixed number of bits for each entry in an array. So, you lose the infinite integer precision that Python usually has. By default, numpy integer arrays use either 32 or 64 bits of precision, depending on the computer and operating system. If the difference is important to you, you should specify it explicitly, e.g.:"
   ]
  },
  {
   "cell_type": "code",
   "execution_count": 28,
   "metadata": {},
   "outputs": [
    {
     "data": {
      "text/plain": [
       "array([8, 7, 6, 5, 4, 3, 2])"
      ]
     },
     "execution_count": 28,
     "metadata": {},
     "output_type": "execute_result"
    }
   ],
   "source": [
    "np.array([8,7,6,5,4,3,2], dtype=np.int64)"
   ]
  },
  {
   "cell_type": "markdown",
   "metadata": {},
   "source": [
    "### Higher dimensional arrays"
   ]
  },
  {
   "cell_type": "code",
   "execution_count": 29,
   "metadata": {},
   "outputs": [
    {
     "data": {
      "text/plain": [
       "array([[  1,   2,   3,   4,   5],\n",
       "       [  1,   4,   9,  16,  25],\n",
       "       [  1,  16,  81, 256, 525]])"
      ]
     },
     "execution_count": 29,
     "metadata": {},
     "output_type": "execute_result"
    }
   ],
   "source": [
    "# A 2D array.\n",
    "\n",
    "np.array([[1,2,3,4,5], [1,4,9,16,25], [1,16,81,256,525]])"
   ]
  },
  {
   "cell_type": "markdown",
   "metadata": {},
   "source": [
    "You can convert a list of numbers into a numpy array, which allows you to do mathematical operations on all the elements in the list at once:"
   ]
  },
  {
   "cell_type": "code",
   "execution_count": 30,
   "metadata": {},
   "outputs": [
    {
     "name": "stdout",
     "output_type": "stream",
     "text": [
      "[17 13 11  7  5  3  2] [289 169 121  49  25   9   4]\n",
      "[0.05878961 0.07684724 0.09078392 0.14237173 0.19866933 0.3271947\n",
      " 0.47942554]\n"
     ]
    }
   ],
   "source": [
    "list = [17,13,11,7,5,3,2]  # Create a list of numbers\n",
    "arr = np.array(list)       # Convert the list to a numpy array\n",
    "print(arr, arr**2)         # Print the numbers and their squares\n",
    "print(np.sin(1.0/arr))     # Take the sine of the reciprocals \n",
    "                           #   of the numbers"
   ]
  },
  {
   "cell_type": "markdown",
   "metadata": {},
   "source": [
    "You can also generate an array of all zeroes, all ones, all integers from zero to n-1, or n points between two limits:"
   ]
  },
  {
   "cell_type": "code",
   "execution_count": 31,
   "metadata": {},
   "outputs": [
    {
     "data": {
      "text/plain": [
       "array([[1., 0., 0., 0.],\n",
       "       [0., 1., 0., 0.],\n",
       "       [0., 0., 1., 0.]])"
      ]
     },
     "execution_count": 31,
     "metadata": {},
     "output_type": "execute_result"
    }
   ],
   "source": [
    "# A 3x3 identity matrix, with an extra column of zeroes on the right.\n",
    "\n",
    "np.eye(3,4)"
   ]
  },
  {
   "cell_type": "code",
   "execution_count": 32,
   "metadata": {},
   "outputs": [
    {
     "data": {
      "text/plain": [
       "array([[0., 0., 0.],\n",
       "       [0., 0., 0.]])"
      ]
     },
     "execution_count": 32,
     "metadata": {},
     "output_type": "execute_result"
    }
   ],
   "source": [
    "# A 2x3 array of zeroes.\n",
    "\n",
    "np.zeros((2,3))"
   ]
  },
  {
   "cell_type": "code",
   "execution_count": 33,
   "metadata": {},
   "outputs": [
    {
     "data": {
      "text/plain": [
       "array([[1., 1.],\n",
       "       [1., 1.],\n",
       "       [1., 1.],\n",
       "       [1., 1.],\n",
       "       [1., 1.]])"
      ]
     },
     "execution_count": 33,
     "metadata": {},
     "output_type": "execute_result"
    }
   ],
   "source": [
    "# A 5x2 array of ones.\n",
    "\n",
    "np.ones((5,2))"
   ]
  },
  {
   "cell_type": "code",
   "execution_count": 34,
   "metadata": {},
   "outputs": [
    {
     "data": {
      "text/plain": [
       "array([100, 102, 104, 106, 108, 110, 112, 114, 116, 118])"
      ]
     },
     "execution_count": 34,
     "metadata": {},
     "output_type": "execute_result"
    }
   ],
   "source": [
    "# A 1D array of the ten even integers from 100 up.\n",
    "\n",
    "np.arange(10) * 2 + 100\n"
   ]
  },
  {
   "cell_type": "code",
   "execution_count": 35,
   "metadata": {},
   "outputs": [
    {
     "data": {
      "text/plain": [
       "array([30. , 30.5, 31. , 31.5, 32. , 32.5, 33. , 33.5, 34. , 34.5, 35. ,\n",
       "       35.5, 36. , 36.5, 37. , 37.5, 38. , 38.5, 39. , 39.5, 40. ])"
      ]
     },
     "execution_count": 35,
     "metadata": {},
     "output_type": "execute_result"
    }
   ],
   "source": [
    "# A 1D array of 21 floating-point numbers linearly \n",
    "# spaced from 30 to 40.\n",
    "\n",
    "np.linspace(30.0, 40.0, 21)"
   ]
  },
  {
   "cell_type": "code",
   "execution_count": 36,
   "metadata": {},
   "outputs": [
    {
     "data": {
      "text/plain": [
       "array([[ 0.50015631,  0.4377524 , -0.76936991],\n",
       "       [ 0.301893  , -0.90474776, -0.6949072 ],\n",
       "       [ 0.96036044, -1.91292072, -0.94202416]])"
      ]
     },
     "execution_count": 36,
     "metadata": {},
     "output_type": "execute_result"
    }
   ],
   "source": [
    "# A 3x3 array of normally distributed random numbers, \n",
    "# with mean 0.0 and standard deviation 1.0. This is a great\n",
    "# example of the power of Python.\n",
    "\n",
    "np.random.normal(0.0, 1.0, (3,3))"
   ]
  },
  {
   "cell_type": "markdown",
   "metadata": {},
   "source": [
    "# Indexing and slicing\n",
    "\n",
    "With ordered data types such as *lists* and *arrays* and *strings*, you can retrieve subsets by their *index*, i.e., where they are in the list or array. Python indexing starts at zero. Some computer languages, e.g., FORTRAN, start at 1."
   ]
  },
  {
   "cell_type": "code",
   "execution_count": 37,
   "metadata": {},
   "outputs": [
    {
     "data": {
      "text/plain": [
       "array([17, 13, 11,  7,  5,  3,  2])"
      ]
     },
     "execution_count": 37,
     "metadata": {},
     "output_type": "execute_result"
    }
   ],
   "source": [
    "# We begin with \"arr\" as defined above.\n",
    "\n",
    "arr"
   ]
  },
  {
   "cell_type": "code",
   "execution_count": 38,
   "metadata": {},
   "outputs": [
    {
     "data": {
      "text/plain": [
       "17"
      ]
     },
     "execution_count": 38,
     "metadata": {},
     "output_type": "execute_result"
    }
   ],
   "source": [
    "# Element 0 is the first element in the array.\n",
    "\n",
    "arr[0]"
   ]
  },
  {
   "cell_type": "code",
   "execution_count": 39,
   "metadata": {},
   "outputs": [
    {
     "data": {
      "text/plain": [
       "5"
      ]
     },
     "execution_count": 39,
     "metadata": {},
     "output_type": "execute_result"
    }
   ],
   "source": [
    "# Here is the fifth element of the array.\n",
    "\n",
    "arr[4]"
   ]
  },
  {
   "cell_type": "code",
   "execution_count": 40,
   "metadata": {},
   "outputs": [
    {
     "data": {
      "text/plain": [
       "2"
      ]
     },
     "execution_count": 40,
     "metadata": {},
     "output_type": "execute_result"
    }
   ],
   "source": [
    "# This gives you the last element.\n",
    "\n",
    "arr[-1]"
   ]
  },
  {
   "cell_type": "markdown",
   "metadata": {},
   "source": [
    "To select a *range* of indices from i to j, use the range operator \":\". Python gives you back elements i through j-1:"
   ]
  },
  {
   "cell_type": "code",
   "execution_count": 41,
   "metadata": {},
   "outputs": [
    {
     "data": {
      "text/plain": [
       "array([17])"
      ]
     },
     "execution_count": 41,
     "metadata": {},
     "output_type": "execute_result"
    }
   ],
   "source": [
    "# Select element 0 only (this is the same as arr[0]).\n",
    "\n",
    "arr[0:1]"
   ]
  },
  {
   "cell_type": "code",
   "execution_count": 42,
   "metadata": {},
   "outputs": [
    {
     "data": {
      "text/plain": [
       "array([7, 5])"
      ]
     },
     "execution_count": 42,
     "metadata": {},
     "output_type": "execute_result"
    }
   ],
   "source": [
    "# As an exercise, try reversing the numbers - does the result make sense?\n",
    "\n",
    "arr[3:5]"
   ]
  },
  {
   "cell_type": "markdown",
   "metadata": {},
   "source": [
    "If you want to select all the way from or to one end of the array, you can leave that part blank and Python will understand what you mean:"
   ]
  },
  {
   "cell_type": "code",
   "execution_count": 43,
   "metadata": {},
   "outputs": [
    {
     "data": {
      "text/plain": [
       "array([11,  7,  5,  3,  2])"
      ]
     },
     "execution_count": 43,
     "metadata": {},
     "output_type": "execute_result"
    }
   ],
   "source": [
    "arr[2:]"
   ]
  },
  {
   "cell_type": "code",
   "execution_count": 44,
   "metadata": {},
   "outputs": [
    {
     "data": {
      "text/plain": [
       "array([17, 13, 11,  7])"
      ]
     },
     "execution_count": 44,
     "metadata": {},
     "output_type": "execute_result"
    }
   ],
   "source": [
    "arr[:4]"
   ]
  },
  {
   "cell_type": "markdown",
   "metadata": {},
   "source": [
    "Selecting subsets works in multiple dimensions too:"
   ]
  },
  {
   "cell_type": "code",
   "execution_count": 45,
   "metadata": {},
   "outputs": [
    {
     "data": {
      "text/plain": [
       "array([[0, 1, 2],\n",
       "       [3, 4, 5],\n",
       "       [6, 7, 8]])"
      ]
     },
     "execution_count": 45,
     "metadata": {},
     "output_type": "execute_result"
    }
   ],
   "source": [
    "arr2 = np.array([[0,1,2], [3,4,5], [6,7,8]])\n",
    "arr2"
   ]
  },
  {
   "cell_type": "code",
   "execution_count": 46,
   "metadata": {},
   "outputs": [
    {
     "data": {
      "text/plain": [
       "array([0, 1, 2])"
      ]
     },
     "execution_count": 46,
     "metadata": {},
     "output_type": "execute_result"
    }
   ],
   "source": [
    "arr2[0,:]"
   ]
  },
  {
   "cell_type": "code",
   "execution_count": 47,
   "metadata": {},
   "outputs": [
    {
     "data": {
      "text/plain": [
       "array([1, 4, 7])"
      ]
     },
     "execution_count": 47,
     "metadata": {},
     "output_type": "execute_result"
    }
   ],
   "source": [
    "arr2[:,1]"
   ]
  },
  {
   "cell_type": "code",
   "execution_count": 48,
   "metadata": {},
   "outputs": [
    {
     "data": {
      "text/plain": [
       "array([7, 8])"
      ]
     },
     "execution_count": 48,
     "metadata": {},
     "output_type": "execute_result"
    }
   ],
   "source": [
    "arr2[2,1:3]"
   ]
  },
  {
   "cell_type": "markdown",
   "metadata": {},
   "source": [
    "You can use indexing to reverse character strings"
   ]
  },
  {
   "cell_type": "code",
   "execution_count": 49,
   "metadata": {},
   "outputs": [
    {
     "data": {
      "text/plain": [
       "'fedcba'"
      ]
     },
     "execution_count": 49,
     "metadata": {},
     "output_type": "execute_result"
    }
   ],
   "source": [
    "a = 'abcdef'\n",
    "a[::-1]"
   ]
  },
  {
   "cell_type": "code",
   "execution_count": 50,
   "metadata": {},
   "outputs": [
    {
     "data": {
      "text/plain": [
       "array([[4, 5],\n",
       "       [7, 8]])"
      ]
     },
     "execution_count": 50,
     "metadata": {},
     "output_type": "execute_result"
    }
   ],
   "source": [
    "arr2[1:3,1:3]"
   ]
  },
  {
   "cell_type": "code",
   "execution_count": 51,
   "metadata": {},
   "outputs": [
    {
     "data": {
      "text/plain": [
       "array([[5, 4, 3],\n",
       "       [8, 7, 6]])"
      ]
     },
     "execution_count": 51,
     "metadata": {},
     "output_type": "execute_result"
    }
   ],
   "source": [
    "arr2[1:,::-1]"
   ]
  },
  {
   "cell_type": "code",
   "execution_count": 52,
   "metadata": {},
   "outputs": [
    {
     "data": {
      "text/plain": [
       "array([[0, 1, 2],\n",
       "       [3, 1, 0],\n",
       "       [6, 0, 1]])"
      ]
     },
     "execution_count": 52,
     "metadata": {},
     "output_type": "execute_result"
    }
   ],
   "source": [
    "arr2[1:3,1:3] = np.eye(2,2)\n",
    "arr2"
   ]
  },
  {
   "cell_type": "markdown",
   "metadata": {},
   "source": [
    "### Can you solve it?\n",
    "\n",
    "1. Can you write an expression to return the 2x2 sub-array in the lower right corner of arr2? I.e., [[4,5],[7,8]]\n",
    "\n",
    "2. Can you write an expression to return the 2x3 sub-array at the bottom of arr2, with the columns reversed? I.e., [[5,4,3],[8,7,6]]\n",
    "\n",
    "3. Can you replace the 2x2 sub-array in the lower right corner with the 2x2 identity matrix?"
   ]
  },
  {
   "cell_type": "markdown",
   "metadata": {},
   "source": [
    "## Loops\n",
    "\n",
    "If you want to re-run a piece of code while changing an input variable, a `for` loop is what you want. If you want to repeat a piece of code until a certain condition is met, use a `while` loop. Loops can be nested inside other loops."
   ]
  },
  {
   "cell_type": "markdown",
   "metadata": {},
   "source": [
    "## Indentation\n",
    "\n",
    "Python pays attention to how your code is indented. Indentation by a consistent number of spaces or tabs is required inside a loop or an `if` statement. Jupyter will automatically indent text after a line that begins with `for`, `while`, `if`, or `else`. Returning to no indentation indicates that the loop or `if` statement is finished; there is no 'end if', 'fi', 'end for', or brackets as there are in most computer languages."
   ]
  },
  {
   "cell_type": "code",
   "execution_count": 53,
   "metadata": {},
   "outputs": [
    {
     "name": "stdout",
     "output_type": "stream",
     "text": [
      "7\n",
      "10\n",
      "13\n",
      "16\n",
      "19\n",
      "22\n",
      "25\n",
      "28\n",
      "31\n",
      "34\n"
     ]
    }
   ],
   "source": [
    "for i in range(0,10):\n",
    "    h = (i * 3) + 7\n",
    "    print(h)"
   ]
  },
  {
   "cell_type": "markdown",
   "metadata": {},
   "source": [
    "Note that similarly to when we were selecting a subset of an array, a `for` loop that starts with `for i in range(min,max):` goes from `i = min` to `i = max - 1`."
   ]
  },
  {
   "cell_type": "code",
   "execution_count": 54,
   "metadata": {},
   "outputs": [
    {
     "name": "stdout",
     "output_type": "stream",
     "text": [
      "Betelgeuse is bright\n",
      "Sirius is very bright\n",
      "Canopus is bright\n",
      "Aldebaran is bright\n"
     ]
    }
   ],
   "source": [
    "starlist=['Betelgeuse', 'Sirius', 'Canopus', 'Aldebaran']\n",
    "for star in starlist:\n",
    "    if star == 'Sirius':\n",
    "        print(star, 'is very bright')\n",
    "    else:\n",
    "        print(star, 'is bright')"
   ]
  },
  {
   "cell_type": "markdown",
   "metadata": {},
   "source": [
    "Note that the above `for item in list:` syntax is different to the `for i in range(min,max):` syntax in the previous example. \"star\" didn't exist as a variable when we wrote `for star in starlist`, but Python recognizes the structure of the `for` loop and makes it work."
   ]
  },
  {
   "cell_type": "code",
   "execution_count": 55,
   "metadata": {},
   "outputs": [
    {
     "name": "stdout",
     "output_type": "stream",
     "text": [
      "0\n",
      "4\n",
      "8\n",
      "12\n",
      "16\n",
      "20\n",
      "24\n"
     ]
    }
   ],
   "source": [
    "i = 0\n",
    "while np.sqrt(i) < 5:\n",
    "    print(i)\n",
    "    i = i + 4"
   ]
  },
  {
   "cell_type": "markdown",
   "metadata": {},
   "source": [
    "## Building lists with loops\n",
    "\n",
    "One of the handiest things we can do with a loop is to build a list one item at a time. That list can then be converted into a numpy array, so that you can perform mathematical operations on it."
   ]
  },
  {
   "cell_type": "code",
   "execution_count": 56,
   "metadata": {},
   "outputs": [
    {
     "name": "stdout",
     "output_type": "stream",
     "text": [
      "[1.44294105e+30 2.40590379e+39 2.68290992e+33 8.72890262e+33\n",
      " 9.47616965e+36 8.11654338e+37]\n"
     ]
    }
   ],
   "source": [
    "# Create an empty list called 'luminosity'\n",
    "\n",
    "luminosity = []\n",
    "\n",
    "# The Stefan-Boltzmann constant (in cgs unit)\n",
    "\n",
    "sigma = 5.6704E-5\n",
    "\n",
    "# This is our set of input values for temperature\n",
    "\n",
    "T = [3000.0, 3500.0, 4200.0, 5000.0, 6200.0, 7500.0]\n",
    "\n",
    "# This is our set of input values for radius (in cgs)\n",
    "\n",
    "r = [5.0E9, 1.5E14, 1.1E11, 1.4E11, 3.0E12, 6.0E12]\n",
    "\n",
    "# Now loop over every element in T\n",
    "\n",
    "for i in range(0,len(T)):\n",
    "    luminosity.append(4*np.pi*r[i]**2*sigma*T[i]**4)\n",
    "\n",
    "lumvec = np.array(luminosity)\n",
    "print(lumvec)\n",
    "\n",
    "# list.append() is a \"method\" that can be used on \n",
    "# any list - we will talk about methods more \n",
    "# in the demo notebook for Sarah Martell's Lecture 1."
   ]
  },
  {
   "cell_type": "markdown",
   "metadata": {},
   "source": [
    "Although, that wasn't a great example since you could have used numpy's ability to do calculations on arrays to remove the `for` loop entirely, as follows:"
   ]
  },
  {
   "cell_type": "code",
   "execution_count": 57,
   "metadata": {},
   "outputs": [
    {
     "data": {
      "text/plain": [
       "array([1.44294105e+30, 2.40590379e+39, 2.68290992e+33, 8.72890262e+33,\n",
       "       9.47616965e+36, 8.11654338e+37])"
      ]
     },
     "execution_count": 57,
     "metadata": {},
     "output_type": "execute_result"
    }
   ],
   "source": [
    "lumvec = 4*np.pi*np.array(r)**2*sigma*np.array(T)**4\n",
    "lumvec"
   ]
  },
  {
   "cell_type": "markdown",
   "metadata": {},
   "source": [
    "In general, it is more efficient and cleaner to avoid loops if possible."
   ]
  },
  {
   "cell_type": "markdown",
   "metadata": {},
   "source": [
    "## Here are some example calculations, loops and plots:\n",
    "\n",
    "The first one calculate the flux from a black body at a particular wavelength."
   ]
  },
  {
   "cell_type": "code",
   "execution_count": 58,
   "metadata": {},
   "outputs": [
    {
     "name": "stdout",
     "output_type": "stream",
     "text": [
      "bb =  1.0336123927084526e-20  W m-2 sr-2 Hz-1\n",
      "bb =  24.29742342991191  uJy per sq arcsecond\n"
     ]
    }
   ],
   "source": [
    "import math\n",
    "import numpy as np\n",
    "\n",
    "# Fundamental constants, in SI units.\n",
    "\n",
    "planck = 6.626e-34\n",
    "boltzmann = 1.381e-23\n",
    "c = 2.998e8\n",
    "\n",
    "# Input variables.\n",
    "\n",
    "wavelength = 2.35e-6 # 2.35 microns, in the near infrared\n",
    "t = 273.15 - 60\n",
    "\n",
    "# Derived variables.\n",
    "\n",
    "nu = c / wavelength\n",
    "\n",
    "# The black-body formula.\n",
    "\n",
    "bb = (2 * planck * nu**3)/(c**2 * (math.exp((planck * nu)/(boltzmann * t)) - 1.0))\n",
    "\n",
    "print(\"bb = \", bb, \" W m-2 sr-2 Hz-1\")\n",
    "\n",
    "# Convert to \"radio astronomer's units\" using \n",
    "# 1 Jansky = 1E-26 W m-2 Hz-1, and noting that a\n",
    "# steradian is 4.254E10 square arcseconds.\n",
    "\n",
    "bb *= 1.0E6 / (4.254E10 * 1.0e-26)\n",
    "print(\"bb = \", bb, \" uJy per sq arcsecond\")\n"
   ]
  },
  {
   "cell_type": "markdown",
   "metadata": {},
   "source": [
    "Note that you must have executed the previous cell for the next one to work"
   ]
  },
  {
   "cell_type": "code",
   "execution_count": 59,
   "metadata": {
    "scrolled": true
   },
   "outputs": [
    {
     "data": {
      "image/png": "[encoded data removed]",
      "text/plain": [
       "<Figure size 432x288 with 1 Axes>"
      ]
     },
     "metadata": {
      "needs_background": "light"
     },
     "output_type": "display_data"
    }
   ],
   "source": [
    "import matplotlib.pyplot as plt\n",
    "\n",
    "# Plot the planck function as a function of wavelength,\n",
    "# for a given temperature.\n",
    "\n",
    "t = 273.15 -60  # -60C\n",
    "wavelength = np.arange(2e-6, 200e-6, 0.1e-6) # from 2 to 200 microns\n",
    "\n",
    "nu = c / wavelength\n",
    "\n",
    "bb = (2 * planck * nu**3)/(c**2 * (np.exp((planck * nu)/(boltzmann * t)) - 1.0))\n",
    "\n",
    "plt.plot(wavelength, bb)\n",
    "\n",
    "# For this particular plot, the x axis labels overlap, \n",
    "# so we rotate them by 90 degrees.\n",
    "\n",
    "plt.xticks(rotation=90)\n",
    "plt.show()"
   ]
  },
  {
   "cell_type": "code",
   "execution_count": 4,
   "metadata": {},
   "outputs": [
    {
     "name": "stdout",
     "output_type": "stream",
     "text": [
      "enter the number of steps (e.g., 100): 50\n"
     ]
    },
    {
     "data": {
      "image/png": "[encoded data removed]",
      "text/plain": [
       "<Figure size 432x288 with 1 Axes>"
      ]
     },
     "metadata": {
      "needs_background": "light"
     },
     "output_type": "display_data"
    }
   ],
   "source": [
    "# This example models (crudely) the temperature of the \n",
    "# earth as it reaches equilibrium with the radiation from the sun.\n",
    "\n",
    "import matplotlib.pyplot as plt\n",
    "\n",
    "nSteps = int(input(\"enter the number of steps (e.g., 100): \"))\n",
    "\n",
    "timeStep = 100           # years\n",
    "waterDepth = 4000        # meters\n",
    "L = 1350                 # Watts/m2\n",
    "heatCapacity = 1.6884E10 # J/K m2\n",
    "albedo = 0.3\n",
    "epsilon = 1\n",
    "sigma = 5.67E-8          # W/m2 K4\n",
    "\n",
    "time = [0]\n",
    "T = [0]\n",
    "heatContent = T[0] * heatCapacity\n",
    "\n",
    "for i in range(0, nSteps):\n",
    "    heatContent += (L * (1 - albedo) / 4 - epsilon * sigma * pow(T[-1], 4)) * timeStep * 365.25 * 24 * 3600\n",
    "    T.append(heatContent / heatCapacity)\n",
    "    time.append(time[-1] + timeStep)\n",
    "    heatOut = sigma * pow(T[-1], 4)\n",
    "\n",
    "#print(T[-1], heatOut)\n",
    "plt.plot(time, T)\n",
    "plt.show()"
   ]
  },
  {
   "cell_type": "markdown",
   "metadata": {
    "collapsed": true
   },
   "source": [
    "# Physical constants\n",
    "\n",
    "Every conceivable physical constant (including their value, units, and uncertainty!) is defined for you in a dictionary in scipy.constants. For example:"
   ]
  },
  {
   "cell_type": "code",
   "execution_count": 5,
   "metadata": {},
   "outputs": [
    {
     "name": "stdout",
     "output_type": "stream",
     "text": [
      "(5.670374419e-08, 'W m^-2 K^-4', 0.0)\n",
      "(6.2353799905e-65, 'C^4 m^4 J^-3', 3.8e-74)\n",
      "5.670374419e-08\n",
      "6.6743e-11 5.670374419e-08\n"
     ]
    }
   ],
   "source": [
    "import scipy.constants\n",
    "\n",
    "print(scipy.constants.physical_constants['Stefan-Boltzmann constant'])\n",
    "print(scipy.constants.physical_constants['atomic unit of 2nd hyperpolarizability'])\n",
    "\n",
    "# To extract the constant itself (without the units and uncertainty)\n",
    "# use the [0] index as follows:\n",
    "\n",
    "sigma = scipy.constants.physical_constants['Stefan-Boltzmann constant'][0]\n",
    "print(sigma)\n",
    "\n",
    "# Alternatively, many commonly used constants are also in scipy.constants.\n",
    "\n",
    "G = scipy.constants.G # the gravitational constant\n",
    "sigma = scipy.constants.Stefan_Boltzmann\n",
    "\n",
    "print(G, sigma)"
   ]
  },
  {
   "cell_type": "markdown",
   "metadata": {},
   "source": [
    "# 3D visualization\n",
    "\n",
    "The following cells show examples of 3D visualization using a package called vpython. To run these cells you need to have `vpython` installed. You can do this with\n",
    "\n",
    "`conda install -c vpython vpython`\n",
    "\n",
    "from the Anaconda command line. When the cells are run, you can interact with the visualization by using a touchscreen, or right-click and move the mouse cursor. You can stop the program by using `Kernel->Restart`. Alternatively, you can type `ESC r` (where ESC is the escape key), and then `ESC y`."
   ]
  },
  {
   "cell_type": "code",
   "execution_count": null,
   "metadata": {},
   "outputs": [],
   "source": [
    "# Example of a bouncing ball.\n",
    "\n",
    "from vpython import *\n",
    "scene = canvas()\n",
    "\n",
    "# Create a ball.\n",
    "\n",
    "ball = sphere(pos = vector(0,4,0), radius = 1, color = color.red)\n",
    "\n",
    "# Create a \"floor\" for the sphere to bounce off.\n",
    "\n",
    "floor = box(pos = vector(0,0,0), length = 4, \n",
    "            height = 0.25, width = 4, color = color.green)\n",
    "\n",
    "# Set the initial ball velocity, and the time increment.\n",
    "\n",
    "ball.velocity = vector(0, -1, 0)\n",
    "dt = 0.01\n",
    "\n",
    "# Loop forever, updating the ball's position and velocity.\n",
    "\n",
    "while True:\n",
    "    rate(100) # Maximum of 100 updates a second.\n",
    "    \n",
    "    ball.pos = ball.pos + ball.velocity * dt\n",
    "    \n",
    "    if ball.pos.y < ball.radius:\n",
    "        ball.velocity.y = abs(ball.velocity.y)\n",
    "    else:\n",
    "        ball.velocity.y = ball.velocity.y - 9.8 * dt\n",
    "        "
   ]
  },
  {
   "cell_type": "code",
   "execution_count": null,
   "metadata": {},
   "outputs": [],
   "source": [
    "# Example of binary star orbits, from http://www.glowscript.org\n",
    "\n",
    "import scipy.constants\n",
    "from vpython import *\n",
    "scene = canvas()\n",
    "scene.forward = vector(0,-.3,-1)\n",
    "\n",
    "G = scipy.constants.physical_constants['Newtonian constant of gravitation'][0]\n",
    "\n",
    "# Define a giant star, and give its initial position, \n",
    "# radius, mass, and momentum.\n",
    "\n",
    "giant = sphere(pos = vector(-1e11,0,0), radius = 2e10, \n",
    "               color = color.red, make_trail = True, \n",
    "               trail_type = 'points', interval = 10, retain = 50)\n",
    "giant.mass = 2e30\n",
    "giant.p = vector(0, 0, -1e4) * giant.mass\n",
    "\n",
    "# Do the same for its companion star.\n",
    "\n",
    "dwarf = sphere(pos = vector(1.5e11,0,0), radius = 1e10, \n",
    "               color = color.yellow, make_trail = True, \n",
    "               interval = 10, retain = 50)\n",
    "dwarf.mass = 1e30\n",
    "dwarf.p = -giant.p\n",
    "\n",
    "dt = 1e5 # time increment per loop in seconds\n",
    "\n",
    "while True:\n",
    "    rate(200)\n",
    "    r = dwarf.pos - giant.pos # the relative position of the stars\n",
    "    F = G * giant.mass * dwarf.mass * r.hat / mag2(r) # the attractive force\n",
    "    giant.p = giant.p + F*dt # update the momenta, ensuring conservation\n",
    "    dwarf.p = dwarf.p - F*dt\n",
    "    giant.pos = giant.pos + (giant.p/giant.mass) * dt # update the positions\n",
    "    dwarf.pos = dwarf.pos + (dwarf.p/dwarf.mass) * dt"
   ]
  },
  {
   "cell_type": "raw",
   "metadata": {},
   "source": []
  }
 ],
 "metadata": {
  "anaconda-cloud": {},
  "kernelspec": {
   "display_name": "Python 3",
   "language": "python",
   "name": "python3"
  },
  "language_info": {
   "codemirror_mode": {
    "name": "ipython",
    "version": 3
   },
   "file_extension": ".py",
   "mimetype": "text/x-python",
   "name": "python",
   "nbconvert_exporter": "python",
   "pygments_lexer": "ipython3",
   "version": "3.8.5"
  }
 },
 "nbformat": 4,
 "nbformat_minor": 1
}
