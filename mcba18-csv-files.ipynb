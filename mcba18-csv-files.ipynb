{
 "cells": [
  {
   "attachments": {},
   "cell_type": "markdown",
   "id": "47943652-cb07-417e-8db6-c5acdec06590",
   "metadata": {
    "jp-MarkdownHeadingCollapsed": true
   },
   "source": [
    "# Reading data from CSV files\n",
    "\n",
    "CSV stands for \"comma separated variables\" and it is a simple file format for storing data. Each line (or \"row\") of the file consists of a series of values (integers, floating point numbers, strings, etc) separated by commas. Each column represents the value of one variable. Quite often in physics experiments, each row corresponds to a different independent variable under the control of the experimenter - the row itself contains the value of the independent variable (often in the first column), followed by the dependent variables. \n",
    "\n",
    "The file can also contain comments, which are lines beginning with a hash symbol, #.\n",
    "\n",
    "The separator between variables on the row doesn't have to be a comma. \"whitespace\" (one or more spaces and/or tab characters) is often used instead.\n",
    "\n",
    "You can edit CSV files with any text editor, or with a spreadsheet program such as LibreCalc or Excel.\n",
    "\n",
    "The first non-comment line in a CSV file can be a \"header\" that names the columns. For example, here is a CSV file with 8 columns, 3 data rows, and a header line, using spaces as separators:\n",
    "\n",
    "```\n",
    "time humidity temperature vbatt flag1 flag2 msec rssi\n",
    "110914.352999926 17 32.00 14.17 11 11 3860981 -117\n",
    "110933.119999886 17 32.10 14.17 11 11 3879754 -117\n",
    "110951.891000032 17 32.10 14.17 11 11 3898528 -116\n",
    "```\n",
    "\n",
    "Python makes it very easy to read a CSV file into numpy arrays, or Pandas dataframes. The file can exist on your local computer, or be downloaded using a URL.\n",
    "\n",
    "Note that an error in a CSV file, such as a row that isn't in the same format as the others, can cause the rest of the data in the file to be silently ignored. Also, a malformed number in a column can cause the whole column to be considered as a list of strings rather than numbers."
   ]
  },
  {
   "cell_type": "code",
   "execution_count": 31,
   "id": "a350b79f-53d8-4ddd-9c81-e0f4fe24e9b6",
   "metadata": {},
   "outputs": [],
   "source": [
    "# We begin by loading some libraries, and setting up out plot type.\n",
    "\n",
    "import numpy as np\n",
    "import pandas as pd\n",
    "import matplotlib.pyplot as plt\n",
    "\n",
    "#%matplotlib ipympl\n",
    "%matplotlib inline    "
   ]
  },
  {
   "cell_type": "code",
   "execution_count": 32,
   "id": "a139f68d-7db1-44e5-8f0a-a1bede6e685e",
   "metadata": {},
   "outputs": [],
   "source": [
    "# Now trying reading a CVS file from a URL. The delimiter between columns is\n",
    "# set to '\\\\s+' which is a special notation known as a \"regular expression\"\n",
    "# which in this case means \"one or more spaces and/or tabs\".\n",
    "\n",
    "# The data is read into a Pandas data structure known as a \"data frame\".\n",
    "    \n",
    "df = pd.read_csv('https://mcba1.phys.unsw.edu.au/~mcba/phys3112/example.csv', delimiter='\\\\s+')"
   ]
  },
  {
   "cell_type": "code",
   "execution_count": 33,
   "id": "5b39dbd4-1468-4dff-a586-d66bca280beb",
   "metadata": {},
   "outputs": [
    {
     "data": {
      "text/plain": [
       "Index(['time', 'humidity', 'temperature', 'vbatt', 'flag1', 'flag2', 'msec',\n",
       "       'rssi'],\n",
       "      dtype='object')"
      ]
     },
     "execution_count": 33,
     "metadata": {},
     "output_type": "execute_result"
    }
   ],
   "source": [
    "# Pandas data frames have lots of nice methods for common \n",
    "# things you might want to do. E.g., to list the names of the columns, use:\n",
    "\n",
    "df.columns"
   ]
  },
  {
   "cell_type": "code",
   "execution_count": 34,
   "id": "c2e4abab-da5a-406a-9ef6-e2cb544e8759",
   "metadata": {},
   "outputs": [
    {
     "data": {
      "text/html": [
       "<div>\n",
       "<style scoped>\n",
       "    .dataframe tbody tr th:only-of-type {\n",
       "        vertical-align: middle;\n",
       "    }\n",
       "\n",
       "    .dataframe tbody tr th {\n",
       "        vertical-align: top;\n",
       "    }\n",
       "\n",
       "    .dataframe thead th {\n",
       "        text-align: right;\n",
       "    }\n",
       "</style>\n",
       "<table border=\"1\" class=\"dataframe\">\n",
       "  <thead>\n",
       "    <tr style=\"text-align: right;\">\n",
       "      <th></th>\n",
       "      <th>time</th>\n",
       "      <th>humidity</th>\n",
       "      <th>temperature</th>\n",
       "      <th>vbatt</th>\n",
       "      <th>flag1</th>\n",
       "      <th>flag2</th>\n",
       "      <th>msec</th>\n",
       "      <th>rssi</th>\n",
       "    </tr>\n",
       "  </thead>\n",
       "  <tbody>\n",
       "    <tr>\n",
       "      <th>0</th>\n",
       "      <td>110914.353</td>\n",
       "      <td>17</td>\n",
       "      <td>32.0</td>\n",
       "      <td>14.17</td>\n",
       "      <td>11</td>\n",
       "      <td>11</td>\n",
       "      <td>3860981</td>\n",
       "      <td>-117</td>\n",
       "    </tr>\n",
       "    <tr>\n",
       "      <th>1</th>\n",
       "      <td>110933.120</td>\n",
       "      <td>17</td>\n",
       "      <td>32.1</td>\n",
       "      <td>14.17</td>\n",
       "      <td>11</td>\n",
       "      <td>11</td>\n",
       "      <td>3879754</td>\n",
       "      <td>-117</td>\n",
       "    </tr>\n",
       "    <tr>\n",
       "      <th>2</th>\n",
       "      <td>110951.891</td>\n",
       "      <td>17</td>\n",
       "      <td>32.1</td>\n",
       "      <td>14.17</td>\n",
       "      <td>11</td>\n",
       "      <td>11</td>\n",
       "      <td>3898528</td>\n",
       "      <td>-116</td>\n",
       "    </tr>\n",
       "    <tr>\n",
       "      <th>3</th>\n",
       "      <td>110970.662</td>\n",
       "      <td>17</td>\n",
       "      <td>32.1</td>\n",
       "      <td>14.17</td>\n",
       "      <td>11</td>\n",
       "      <td>11</td>\n",
       "      <td>3917302</td>\n",
       "      <td>-116</td>\n",
       "    </tr>\n",
       "    <tr>\n",
       "      <th>4</th>\n",
       "      <td>110989.430</td>\n",
       "      <td>16</td>\n",
       "      <td>32.0</td>\n",
       "      <td>14.18</td>\n",
       "      <td>11</td>\n",
       "      <td>11</td>\n",
       "      <td>3936076</td>\n",
       "      <td>-115</td>\n",
       "    </tr>\n",
       "    <tr>\n",
       "      <th>...</th>\n",
       "      <td>...</td>\n",
       "      <td>...</td>\n",
       "      <td>...</td>\n",
       "      <td>...</td>\n",
       "      <td>...</td>\n",
       "      <td>...</td>\n",
       "      <td>...</td>\n",
       "      <td>...</td>\n",
       "    </tr>\n",
       "    <tr>\n",
       "      <th>37007</th>\n",
       "      <td>1507533.061</td>\n",
       "      <td>14</td>\n",
       "      <td>35.8</td>\n",
       "      <td>12.46</td>\n",
       "      <td>11</td>\n",
       "      <td>0</td>\n",
       "      <td>1400846927</td>\n",
       "      <td>-111</td>\n",
       "    </tr>\n",
       "    <tr>\n",
       "      <th>37008</th>\n",
       "      <td>1507551.833</td>\n",
       "      <td>14</td>\n",
       "      <td>35.8</td>\n",
       "      <td>12.46</td>\n",
       "      <td>11</td>\n",
       "      <td>0</td>\n",
       "      <td>1400865700</td>\n",
       "      <td>-111</td>\n",
       "    </tr>\n",
       "    <tr>\n",
       "      <th>37009</th>\n",
       "      <td>1507570.604</td>\n",
       "      <td>14</td>\n",
       "      <td>35.8</td>\n",
       "      <td>12.48</td>\n",
       "      <td>11</td>\n",
       "      <td>0</td>\n",
       "      <td>1400884474</td>\n",
       "      <td>-111</td>\n",
       "    </tr>\n",
       "    <tr>\n",
       "      <th>37010</th>\n",
       "      <td>1507589.371</td>\n",
       "      <td>14</td>\n",
       "      <td>35.8</td>\n",
       "      <td>12.41</td>\n",
       "      <td>11</td>\n",
       "      <td>0</td>\n",
       "      <td>1400903247</td>\n",
       "      <td>-111</td>\n",
       "    </tr>\n",
       "    <tr>\n",
       "      <th>37011</th>\n",
       "      <td>1507608.141</td>\n",
       "      <td>14</td>\n",
       "      <td>35.8</td>\n",
       "      <td>12.48</td>\n",
       "      <td>11</td>\n",
       "      <td>0</td>\n",
       "      <td>1400922022</td>\n",
       "      <td>-111</td>\n",
       "    </tr>\n",
       "  </tbody>\n",
       "</table>\n",
       "<p>37012 rows × 8 columns</p>\n",
       "</div>"
      ],
      "text/plain": [
       "              time  humidity  temperature  vbatt  flag1  flag2        msec  \\\n",
       "0       110914.353        17         32.0  14.17     11     11     3860981   \n",
       "1       110933.120        17         32.1  14.17     11     11     3879754   \n",
       "2       110951.891        17         32.1  14.17     11     11     3898528   \n",
       "3       110970.662        17         32.1  14.17     11     11     3917302   \n",
       "4       110989.430        16         32.0  14.18     11     11     3936076   \n",
       "...            ...       ...          ...    ...    ...    ...         ...   \n",
       "37007  1507533.061        14         35.8  12.46     11      0  1400846927   \n",
       "37008  1507551.833        14         35.8  12.46     11      0  1400865700   \n",
       "37009  1507570.604        14         35.8  12.48     11      0  1400884474   \n",
       "37010  1507589.371        14         35.8  12.41     11      0  1400903247   \n",
       "37011  1507608.141        14         35.8  12.48     11      0  1400922022   \n",
       "\n",
       "       rssi  \n",
       "0      -117  \n",
       "1      -117  \n",
       "2      -116  \n",
       "3      -116  \n",
       "4      -115  \n",
       "...     ...  \n",
       "37007  -111  \n",
       "37008  -111  \n",
       "37009  -111  \n",
       "37010  -111  \n",
       "37011  -111  \n",
       "\n",
       "[37012 rows x 8 columns]"
      ]
     },
     "execution_count": 34,
     "metadata": {},
     "output_type": "execute_result"
    }
   ],
   "source": [
    "# To display the 10 rows from the data file, 5 from the beginning, \n",
    "# and 5 at the end, use:\n",
    "\n",
    "df.head(-10)"
   ]
  },
  {
   "cell_type": "code",
   "execution_count": 35,
   "id": "e1df0435-aec1-4dd7-97d3-1295513e8b06",
   "metadata": {},
   "outputs": [
    {
     "data": {
      "text/plain": [
       "time           float64\n",
       "humidity         int64\n",
       "temperature    float64\n",
       "vbatt          float64\n",
       "flag1            int64\n",
       "flag2            int64\n",
       "msec             int64\n",
       "rssi             int64\n",
       "dtype: object"
      ]
     },
     "execution_count": 35,
     "metadata": {},
     "output_type": "execute_result"
    }
   ],
   "source": [
    "# To display the data types of the columns, use:\n",
    "\n",
    "df.dtypes"
   ]
  },
  {
   "cell_type": "code",
   "execution_count": 36,
   "id": "5847ea75-eb8e-4c68-a37f-2cc88d344a28",
   "metadata": {
    "scrolled": true
   },
   "outputs": [
    {
     "data": {
      "image/png": "[encoded data removed]",
      "text/plain": [
       "<Figure size 640x480 with 1 Axes>"
      ]
     },
     "metadata": {},
     "output_type": "display_data"
    }
   ],
   "source": [
    "# To make some plots of the data, use:\n",
    "\n",
    "plt.plot(df['time'], df['temperature'], marker='.', markersize=2, linestyle='none', label='Temperature [C]')\n",
    "plt.plot(df['time'], df['humidity'], marker='.', markersize=2, linestyle='none', label='Humidity %')\n",
    "plt.title('Temperature and humidity versus time')\n",
    "plt.xlabel('Time [hours]')\n",
    "plt.ylabel('Value')\n",
    "plt.legend(loc='upper right')\n",
    "plt.show()"
   ]
  },
  {
   "cell_type": "markdown",
   "id": "ee4cf525-daf3-4cbe-bbd2-a2d9fd41ece5",
   "metadata": {},
   "source": [
    "Michael Ashley 07 Mar 2025"
   ]
  },
  {
   "cell_type": "code",
   "execution_count": null,
   "id": "09f1ee10-4f63-4b5b-a11c-1fd92a3543e1",
   "metadata": {},
   "outputs": [],
   "source": []
  }
 ],
 "metadata": {
  "kernelspec": {
   "display_name": "Python 3 (ipykernel)",
   "language": "python",
   "name": "python3"
  },
  "language_info": {
   "codemirror_mode": {
    "name": "ipython",
    "version": 3
   },
   "file_extension": ".py",
   "mimetype": "text/x-python",
   "name": "python",
   "nbconvert_exporter": "python",
   "pygments_lexer": "ipython3",
   "version": "3.12.9"
  }
 },
 "nbformat": 4,
 "nbformat_minor": 5
}
